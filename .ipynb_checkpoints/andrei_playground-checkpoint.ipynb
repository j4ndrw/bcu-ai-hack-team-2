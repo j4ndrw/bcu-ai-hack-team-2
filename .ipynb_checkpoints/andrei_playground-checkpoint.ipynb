{
  "cells": [
    {
      "metadata": {
        "trusted": true
      },
      "cell_type": "code",
      "source": "!pip install --upgrade pip\n!pip install tensorflow keras pandas numpy sklearn matplotlib",
      "execution_count": 1,
      "outputs": [
        {
          "output_type": "stream",
          "text": "Requirement already up-to-date: pip in /home/nbuser/anaconda3_501/lib/python3.6/site-packages (20.1.1)\nRequirement already satisfied: tensorflow in /home/nbuser/anaconda3_501/lib/python3.6/site-packages (2.0.0b1)\nRequirement already satisfied: keras in /home/nbuser/anaconda3_501/lib/python3.6/site-packages (2.3.1)\nRequirement already satisfied: pandas in /home/nbuser/anaconda3_501/lib/python3.6/site-packages (0.23.4)\nRequirement already satisfied: numpy in /home/nbuser/anaconda3_501/lib/python3.6/site-packages (1.16.2)\nRequirement already satisfied: sklearn in /home/nbuser/anaconda3_501/lib/python3.6/site-packages (0.0)\nRequirement already satisfied: matplotlib in /home/nbuser/anaconda3_501/lib/python3.6/site-packages (3.0.0)\nRequirement already satisfied: protobuf>=3.6.1 in /home/nbuser/anaconda3_501/lib/python3.6/site-packages (from tensorflow) (3.10.0)\nRequirement already satisfied: tb-nightly<1.14.0a20190604,>=1.14.0a20190603 in /home/nbuser/anaconda3_501/lib/python3.6/site-packages (from tensorflow) (1.14.0a20190603)\nRequirement already satisfied: termcolor>=1.1.0 in /home/nbuser/anaconda3_501/lib/python3.6/site-packages (from tensorflow) (1.1.0)\nRequirement already satisfied: gast>=0.2.0 in /home/nbuser/anaconda3_501/lib/python3.6/site-packages (from tensorflow) (0.3.2)\nRequirement already satisfied: wrapt>=1.11.1 in /home/nbuser/anaconda3_501/lib/python3.6/site-packages (from tensorflow) (1.11.2)\nRequirement already satisfied: grpcio>=1.8.6 in /home/nbuser/anaconda3_501/lib/python3.6/site-packages (from tensorflow) (1.25.0)\nRequirement already satisfied: google-pasta>=0.1.6 in /home/nbuser/anaconda3_501/lib/python3.6/site-packages (from tensorflow) (0.1.8)\nRequirement already satisfied: keras-applications>=1.0.6 in /home/nbuser/anaconda3_501/lib/python3.6/site-packages (from tensorflow) (1.0.8)\nRequirement already satisfied: absl-py>=0.7.0 in /home/nbuser/anaconda3_501/lib/python3.6/site-packages (from tensorflow) (0.8.1)\nRequirement already satisfied: tf-estimator-nightly<1.14.0.dev2019060502,>=1.14.0.dev2019060501 in /home/nbuser/anaconda3_501/lib/python3.6/site-packages (from tensorflow) (1.14.0.dev2019060501)\nRequirement already satisfied: six>=1.10.0 in /home/nbuser/anaconda3_501/lib/python3.6/site-packages (from tensorflow) (1.11.0)\nRequirement already satisfied: astor>=0.6.0 in /home/nbuser/anaconda3_501/lib/python3.6/site-packages (from tensorflow) (0.8.0)\nRequirement already satisfied: keras-preprocessing>=1.0.5 in /home/nbuser/anaconda3_501/lib/python3.6/site-packages (from tensorflow) (1.1.0)\nRequirement already satisfied: wheel>=0.26 in /home/nbuser/anaconda3_501/lib/python3.6/site-packages (from tensorflow) (0.30.0)\nRequirement already satisfied: scipy>=0.14 in /home/nbuser/anaconda3_501/lib/python3.6/site-packages (from keras) (1.1.0)\nRequirement already satisfied: pyyaml in /home/nbuser/anaconda3_501/lib/python3.6/site-packages (from keras) (3.13)\nRequirement already satisfied: h5py in /home/nbuser/anaconda3_501/lib/python3.6/site-packages (from keras) (2.8.0)\nRequirement already satisfied: pytz>=2011k in /home/nbuser/anaconda3_501/lib/python3.6/site-packages (from pandas) (2019.3)\nRequirement already satisfied: python-dateutil>=2.5.0 in /home/nbuser/anaconda3_501/lib/python3.6/site-packages (from pandas) (2.8.1)\nRequirement already satisfied: scikit-learn in /home/nbuser/anaconda3_501/lib/python3.6/site-packages (from sklearn) (0.20.3)\nRequirement already satisfied: cycler>=0.10 in /home/nbuser/anaconda3_501/lib/python3.6/site-packages (from matplotlib) (0.10.0)\nRequirement already satisfied: kiwisolver>=1.0.1 in /home/nbuser/anaconda3_501/lib/python3.6/site-packages (from matplotlib) (1.0.1)\nRequirement already satisfied: pyparsing!=2.0.4,!=2.1.2,!=2.1.6,>=2.0.1 in /home/nbuser/anaconda3_501/lib/python3.6/site-packages (from matplotlib) (2.3.0)\nRequirement already satisfied: setuptools in /home/nbuser/anaconda3_501/lib/python3.6/site-packages (from protobuf>=3.6.1->tensorflow) (41.6.0)\nRequirement already satisfied: werkzeug>=0.11.15 in /home/nbuser/anaconda3_501/lib/python3.6/site-packages (from tb-nightly<1.14.0a20190604,>=1.14.0a20190603->tensorflow) (0.14.1)\nRequirement already satisfied: markdown>=2.6.8 in /home/nbuser/anaconda3_501/lib/python3.6/site-packages (from tb-nightly<1.14.0a20190604,>=1.14.0a20190603->tensorflow) (3.0.1)\n",
          "name": "stdout"
        }
      ]
    },
    {
      "metadata": {
        "trusted": true
      },
      "cell_type": "code",
      "source": "import numpy as np\nimport pandas as pd\nimport tensorflow as tf\nimport keras\nfrom keras.models import Sequential\nfrom keras.layers import Dense, Dropout, BatchNormalization\nimport keras.backend as K\nfrom keras.callbacks import ModelCheckpoint\nfrom keras.optimizers import Adam, SGD\nfrom sklearn.model_selection import train_test_split\nfrom keras.wrappers.scikit_learn import KerasRegressor\nfrom sklearn.metrics import mean_squared_error\n\nimport matplotlib.pyplot as plt\n\nnp.set_printoptions(precision = 3)",
      "execution_count": 122,
      "outputs": []
    },
    {
      "metadata": {
        "trusted": true
      },
      "cell_type": "code",
      "source": "dataset_path = './data/covid_19_data.csv'\ndataset = pd.read_csv(\n    dataset_path, \n    usecols = [\n        'Country/Region',\n        'Confirmed',\n        'Deaths',\n        'Recovered'\n    ]\n)\ndataset.head()",
      "execution_count": 3,
      "outputs": [
        {
          "output_type": "execute_result",
          "execution_count": 3,
          "data": {
            "text/html": "<div>\n<style scoped>\n    .dataframe tbody tr th:only-of-type {\n        vertical-align: middle;\n    }\n\n    .dataframe tbody tr th {\n        vertical-align: top;\n    }\n\n    .dataframe thead th {\n        text-align: right;\n    }\n</style>\n<table border=\"1\" class=\"dataframe\">\n  <thead>\n    <tr style=\"text-align: right;\">\n      <th></th>\n      <th>Country/Region</th>\n      <th>Confirmed</th>\n      <th>Deaths</th>\n      <th>Recovered</th>\n    </tr>\n  </thead>\n  <tbody>\n    <tr>\n      <th>0</th>\n      <td>Mainland China</td>\n      <td>1</td>\n      <td>0</td>\n      <td>0</td>\n    </tr>\n    <tr>\n      <th>1</th>\n      <td>Mainland China</td>\n      <td>14</td>\n      <td>0</td>\n      <td>0</td>\n    </tr>\n    <tr>\n      <th>2</th>\n      <td>Mainland China</td>\n      <td>6</td>\n      <td>0</td>\n      <td>0</td>\n    </tr>\n    <tr>\n      <th>3</th>\n      <td>Mainland China</td>\n      <td>1</td>\n      <td>0</td>\n      <td>0</td>\n    </tr>\n    <tr>\n      <th>4</th>\n      <td>Mainland China</td>\n      <td>0</td>\n      <td>0</td>\n      <td>0</td>\n    </tr>\n  </tbody>\n</table>\n</div>",
            "text/plain": "   Country/Region  Confirmed  Deaths  Recovered\n0  Mainland China          1       0          0\n1  Mainland China         14       0          0\n2  Mainland China          6       0          0\n3  Mainland China          1       0          0\n4  Mainland China          0       0          0"
          },
          "metadata": {}
        }
      ]
    },
    {
      "metadata": {
        "trusted": true
      },
      "cell_type": "code",
      "source": "def preprocess_dataset(dataset, column_index):\n    for i in range(len(dataset[column_index])):\n        if dataset[column_index][i] == \"('St. Martin',)\":\n            dataset[column_index][i] = 'St. Martin'\n        if dataset[column_index][i] == \" Azerbaijan\":\n            dataset[column_index][i] = 'Azerbaijan'\n        if dataset[column_index][i] == \"Bahamas, The\":\n            dataset[column_index][i] = \"Bahamas\"\n        \n    encoded_countries = {id : country for id, country in enumerate(set(sorted(dataset[column_index])))}\n    decoded_countries = {country : id for id, country in enumerate(set(sorted(dataset[column_index])))}\n    dataset = dataset.sort_values(by = column_index)\n        \n    new_dataset = {c : None for c in set(sorted(dataset[column_index]))}\n    confirmed = []\n    deaths = []\n    recovered = []\n    \n    cached_country = dataset[column_index][0]\n    for i, country in enumerate(dataset[column_index]):\n        if cached_country == country:\n            confirmed.append(dataset['Confirmed'][i])\n            deaths.append(dataset['Deaths'][i])\n            recovered.append(dataset['Recovered'][i])\n\n        else:\n            if i == len(dataset[column_index]):\n                cached_country = country\n      \n            new_dataset.update(\n                { \n                    cached_country : [\n                        np.nan_to_num(np.mean(confirmed)),\n                        np.nan_to_num(np.mean(deaths)),\n                        np.nan_to_num(np.mean(recovered))\n                    ]\n                }\n            )\n                        \n            confirmed = []\n            deaths = []\n            recovered = []\n            \n            cached_country = country\n    return encoded_countries, decoded_countries, pd.DataFrame(data = new_dataset)",
      "execution_count": 4,
      "outputs": []
    },
    {
      "metadata": {
        "trusted": true,
        "scrolled": true
      },
      "cell_type": "code",
      "source": "encoded_countries, decoded_countries, preprocessed_dataset = preprocess_dataset(dataset, 'Country/Region')",
      "execution_count": 5,
      "outputs": [
        {
          "output_type": "stream",
          "text": "/home/nbuser/anaconda3_501/lib/python3.6/site-packages/ipykernel/__main__.py:6: SettingWithCopyWarning: \nA value is trying to be set on a copy of a slice from a DataFrame\n\nSee the caveats in the documentation: http://pandas.pydata.org/pandas-docs/stable/indexing.html#indexing-view-versus-copy\n/home/nbuser/anaconda3_501/lib/python3.6/site-packages/ipykernel/__main__.py:4: SettingWithCopyWarning: \nA value is trying to be set on a copy of a slice from a DataFrame\n\nSee the caveats in the documentation: http://pandas.pydata.org/pandas-docs/stable/indexing.html#indexing-view-versus-copy\n/home/nbuser/anaconda3_501/lib/python3.6/site-packages/ipykernel/__main__.py:8: SettingWithCopyWarning: \nA value is trying to be set on a copy of a slice from a DataFrame\n\nSee the caveats in the documentation: http://pandas.pydata.org/pandas-docs/stable/indexing.html#indexing-view-versus-copy\n/home/nbuser/anaconda3_501/lib/python3.6/site-packages/numpy/core/fromnumeric.py:3118: RuntimeWarning: Mean of empty slice.\n  out=out, **kwargs)\n/home/nbuser/anaconda3_501/lib/python3.6/site-packages/numpy/core/_methods.py:85: RuntimeWarning: invalid value encountered in double_scalars\n  ret = ret.dtype.type(ret / rcount)\n",
          "name": "stderr"
        }
      ]
    },
    {
      "metadata": {
        "trusted": true
      },
      "cell_type": "code",
      "source": "def normalize(x, index):\n    return (x - dataset.describe()[index]['mean']) / dataset.describe()[index]['std']\n\ndef create_features_labels(preprocessed_dataset):\n    features = np.array(list(encoded_countries.keys()))\n    \n    confirmed = np.nan_to_num(np.array(preprocessed_dataset, \"float\")[0])\n    confirmed = normalize(confirmed, \"Confirmed\")\n    \n    deaths = np.nan_to_num(np.array(preprocessed_dataset, \"float\")[1])\n    deaths = normalize(deaths, \"Deaths\")\n    \n    recovered = np.nan_to_num(np.array(preprocessed_dataset, \"float\")[2])\n    recovered = normalize(recovered, \"Recovered\")\n \n    labels = []\n    \n    for c, d, r in zip(confirmed, deaths, recovered):\n        labels.append([c, d, r])\n        \n    labels = np.array(labels)\n        \n    return features, labels\n\nx, y = create_features_labels(preprocessed_dataset)",
      "execution_count": 113,
      "outputs": []
    },
    {
      "metadata": {
        "trusted": true
      },
      "cell_type": "code",
      "source": "def det_coeff(y_true, y_pred):\n    u = K.sum(K.square(y_true - y_pred))\n    v = K.sum(K.square(y_true - K.mean(y_true)))\n    return K.ones_like(v) - (u / v)",
      "execution_count": 85,
      "outputs": []
    },
    {
      "metadata": {
        "trusted": true
      },
      "cell_type": "code",
      "source": "def build_model():\n    model = Sequential()\n    \n    input_layer = Dense(\n        128,\n        input_dim = 1,\n        activation = 'relu',\n    )\n    \n    dropout1 = Dropout(0.1)\n    batch_norm_layer = BatchNormalization(\n        momentum = 0.99,\n        trainable = True,\n    )\n        \n    hl1 = Dense(\n        128,\n        activation = 'relu',\n#         kernel_regularizer=keras.regularizers.l1_l2(l1=1e-5, l2=1e-4),\n#         bias_regularizer=keras.regularizers.l2(1e-4)\n    )\n    \n    dropout2 = Dropout(0.2)\n    \n    hl2 = Dense(\n        32,\n        activation = 'relu'\n    )\n    \n    output_layer = Dense(\n        3,\n        activation = 'linear'\n    )\n    \n    model.add(input_layer)\n#     model.add(dropout1)\n#     model.add(batch_norm_layer)\n    model.add(hl1)\n#     model.add(dropout2)\n    model.add(hl2)\n    model.add(output_layer)\n    \n    model.compile(\n        loss = 'mse',\n        optimizer = Adam(\n            learning_rate=0.001\n        ),\n        metrics = ['mse']\n#         metrics = ['acc']\n    )\n    \n    return model",
      "execution_count": 114,
      "outputs": []
    },
    {
      "metadata": {
        "trusted": true
      },
      "cell_type": "code",
      "source": "model = build_model()\nmodel.summary()",
      "execution_count": 115,
      "outputs": [
        {
          "output_type": "stream",
          "text": "Model: \"sequential_37\"\n_________________________________________________________________\nLayer (type)                 Output Shape              Param #   \n=================================================================\ndense_145 (Dense)            (None, 128)               256       \n_________________________________________________________________\ndense_146 (Dense)            (None, 128)               16512     \n_________________________________________________________________\ndense_147 (Dense)            (None, 32)                4128      \n_________________________________________________________________\ndense_148 (Dense)            (None, 3)                 99        \n=================================================================\nTotal params: 20,995\nTrainable params: 20,995\nNon-trainable params: 0\n_________________________________________________________________\n",
          "name": "stdout"
        }
      ]
    },
    {
      "metadata": {
        "trusted": true
      },
      "cell_type": "code",
      "source": "EPOCHS = 100",
      "execution_count": 25,
      "outputs": []
    },
    {
      "metadata": {
        "trusted": true,
        "scrolled": true
      },
      "cell_type": "code",
      "source": "model.fit(\n    x = x,\n    y = y,\n    batch_size = 8,\n    validation_split = 0.1,\n    epochs = EPOCHS\n)",
      "execution_count": 116,
      "outputs": [
        {
          "output_type": "stream",
          "text": "Train on 198 samples, validate on 22 samples\nEpoch 1/100\n198/198 [==============================] - 5s 27ms/step - loss: 18.6175 - mse: 18.6175 - val_loss: 2.8376 - val_mse: 2.8376\nEpoch 2/100\n198/198 [==============================] - 0s 2ms/step - loss: 0.9613 - mse: 0.9613 - val_loss: 0.4445 - val_mse: 0.4445\nEpoch 3/100\n198/198 [==============================] - 1s 3ms/step - loss: 0.1614 - mse: 0.1614 - val_loss: 0.0991 - val_mse: 0.0991\nEpoch 4/100\n198/198 [==============================] - 1s 3ms/step - loss: 0.0878 - mse: 0.0878 - val_loss: 0.0681 - val_mse: 0.0681\nEpoch 5/100\n198/198 [==============================] - 1s 3ms/step - loss: 0.0783 - mse: 0.0783 - val_loss: 0.0530 - val_mse: 0.0530\nEpoch 6/100\n198/198 [==============================] - 0s 2ms/step - loss: 0.0832 - mse: 0.0832 - val_loss: 0.0621 - val_mse: 0.0621\nEpoch 7/100\n198/198 [==============================] - 1s 3ms/step - loss: 0.0807 - mse: 0.0807 - val_loss: 0.0541 - val_mse: 0.0541\nEpoch 8/100\n198/198 [==============================] - 1s 3ms/step - loss: 0.0896 - mse: 0.0896 - val_loss: 0.0733 - val_mse: 0.0733\nEpoch 9/100\n198/198 [==============================] - 1s 3ms/step - loss: 0.0876 - mse: 0.0876 - val_loss: 0.0837 - val_mse: 0.0837\nEpoch 10/100\n198/198 [==============================] - 0s 2ms/step - loss: 0.0808 - mse: 0.0808 - val_loss: 0.0479 - val_mse: 0.0479\nEpoch 11/100\n198/198 [==============================] - 0s 2ms/step - loss: 0.0879 - mse: 0.0879 - val_loss: 0.0604 - val_mse: 0.0604\nEpoch 12/100\n198/198 [==============================] - 0s 2ms/step - loss: 0.0782 - mse: 0.0782 - val_loss: 0.0398 - val_mse: 0.0398\nEpoch 13/100\n198/198 [==============================] - 0s 2ms/step - loss: 0.0867 - mse: 0.0867 - val_loss: 0.0959 - val_mse: 0.0959\nEpoch 14/100\n198/198 [==============================] - 1s 3ms/step - loss: 0.0827 - mse: 0.0827 - val_loss: 0.0613 - val_mse: 0.0613\nEpoch 15/100\n198/198 [==============================] - 1s 3ms/step - loss: 0.0900 - mse: 0.0900 - val_loss: 0.0607 - val_mse: 0.0607\nEpoch 16/100\n198/198 [==============================] - 0s 2ms/step - loss: 0.0821 - mse: 0.0821 - val_loss: 0.0559 - val_mse: 0.0559\nEpoch 17/100\n198/198 [==============================] - 1s 3ms/step - loss: 0.0817 - mse: 0.0817 - val_loss: 0.0809 - val_mse: 0.0809\nEpoch 18/100\n198/198 [==============================] - 0s 2ms/step - loss: 0.0875 - mse: 0.0875 - val_loss: 0.0564 - val_mse: 0.0564\nEpoch 19/100\n198/198 [==============================] - 2s 8ms/step - loss: 0.0896 - mse: 0.0896 - val_loss: 0.0349 - val_mse: 0.0349\nEpoch 20/100\n198/198 [==============================] - 1s 6ms/step - loss: 0.0824 - mse: 0.0824 - val_loss: 0.0430 - val_mse: 0.0430: 0s - loss: 0.0396 - mse: 0. - ETA: 0s - loss: 0.0902 - mse: 0.0\nEpoch 21/100\n198/198 [==============================] - 1s 5ms/step - loss: 0.0943 - mse: 0.0943 - val_loss: 0.0865 - val_mse: 0.0865\nEpoch 22/100\n198/198 [==============================] - 1s 5ms/step - loss: 0.0926 - mse: 0.0926 - val_loss: 0.0797 - val_mse: 0.0797- loss: 0.0464 - mse: 0.\nEpoch 23/100\n198/198 [==============================] - 1s 4ms/step - loss: 0.0937 - mse: 0.0937 - val_loss: 0.2151 - val_mse: 0.2151\nEpoch 24/100\n198/198 [==============================] - 1s 4ms/step - loss: 0.1035 - mse: 0.1035 - val_loss: 0.0674 - val_mse: 0.0674\nEpoch 25/100\n198/198 [==============================] - 1s 3ms/step - loss: 0.0891 - mse: 0.0891 - val_loss: 0.0797 - val_mse: 0.0797\nEpoch 26/100\n198/198 [==============================] - 1s 4ms/step - loss: 0.0951 - mse: 0.0951 - val_loss: 0.0526 - val_mse: 0.0526\nEpoch 27/100\n198/198 [==============================] - 1s 3ms/step - loss: 0.0836 - mse: 0.0836 - val_loss: 0.0850 - val_mse: 0.0850\nEpoch 28/100\n198/198 [==============================] - 1s 5ms/step - loss: 0.0929 - mse: 0.0929 - val_loss: 0.0517 - val_mse: 0.0517\nEpoch 29/100\n198/198 [==============================] - 1s 3ms/step - loss: 0.0905 - mse: 0.0905 - val_loss: 0.0679 - val_mse: 0.0679\nEpoch 30/100\n198/198 [==============================] - 1s 3ms/step - loss: 0.0838 - mse: 0.0838 - val_loss: 0.1461 - val_mse: 0.1461\nEpoch 31/100\n198/198 [==============================] - 0s 2ms/step - loss: 0.0977 - mse: 0.0977 - val_loss: 0.2011 - val_mse: 0.2011\nEpoch 32/100\n198/198 [==============================] - 0s 2ms/step - loss: 0.0893 - mse: 0.0893 - val_loss: 0.0396 - val_mse: 0.0396\nEpoch 33/100\n198/198 [==============================] - 0s 2ms/step - loss: 0.0996 - mse: 0.0996 - val_loss: 0.1300 - val_mse: 0.1300\nEpoch 34/100\n198/198 [==============================] - 1s 3ms/step - loss: 0.0880 - mse: 0.0880 - val_loss: 0.1009 - val_mse: 0.1009\nEpoch 35/100\n198/198 [==============================] - 0s 2ms/step - loss: 0.0950 - mse: 0.0950 - val_loss: 0.1632 - val_mse: 0.1632\nEpoch 36/100\n198/198 [==============================] - 1s 3ms/step - loss: 0.1208 - mse: 0.1208 - val_loss: 0.2476 - val_mse: 0.2476\nEpoch 37/100\n198/198 [==============================] - 0s 3ms/step - loss: 0.0926 - mse: 0.0926 - val_loss: 0.0677 - val_mse: 0.0677\nEpoch 38/100\n198/198 [==============================] - 0s 2ms/step - loss: 0.0908 - mse: 0.0908 - val_loss: 0.0664 - val_mse: 0.0664\nEpoch 39/100\n198/198 [==============================] - 0s 2ms/step - loss: 0.1284 - mse: 0.1284 - val_loss: 0.1221 - val_mse: 0.1221\nEpoch 40/100\n198/198 [==============================] - 0s 2ms/step - loss: 0.1906 - mse: 0.1906 - val_loss: 0.2375 - val_mse: 0.2375\nEpoch 41/100\n198/198 [==============================] - 0s 2ms/step - loss: 0.1037 - mse: 0.1037 - val_loss: 0.0513 - val_mse: 0.0513\nEpoch 42/100\n198/198 [==============================] - 1s 3ms/step - loss: 0.0955 - mse: 0.0955 - val_loss: 0.0662 - val_mse: 0.0662\nEpoch 43/100\n198/198 [==============================] - 1s 4ms/step - loss: 0.0850 - mse: 0.0850 - val_loss: 0.1549 - val_mse: 0.1549\nEpoch 44/100\n198/198 [==============================] - 1s 5ms/step - loss: 0.1071 - mse: 0.1071 - val_loss: 0.0997 - val_mse: 0.0997\nEpoch 45/100\n198/198 [==============================] - 1s 6ms/step - loss: 0.1680 - mse: 0.1680 - val_loss: 0.1438 - val_mse: 0.1438\nEpoch 46/100\n198/198 [==============================] - 1s 5ms/step - loss: 0.0890 - mse: 0.0890 - val_loss: 0.0455 - val_mse: 0.0455\nEpoch 47/100\n198/198 [==============================] - 0s 2ms/step - loss: 0.0963 - mse: 0.0963 - val_loss: 0.1370 - val_mse: 0.1370\nEpoch 48/100\n198/198 [==============================] - 0s 2ms/step - loss: 0.0884 - mse: 0.0884 - val_loss: 0.1017 - val_mse: 0.1017\nEpoch 49/100\n198/198 [==============================] - 0s 2ms/step - loss: 0.0918 - mse: 0.0918 - val_loss: 0.0441 - val_mse: 0.0441\nEpoch 50/100\n198/198 [==============================] - 0s 2ms/step - loss: 0.0864 - mse: 0.0864 - val_loss: 0.0565 - val_mse: 0.0565\nEpoch 51/100\n198/198 [==============================] - 0s 2ms/step - loss: 0.0927 - mse: 0.0927 - val_loss: 0.0795 - val_mse: 0.0795\nEpoch 52/100\n198/198 [==============================] - 1s 3ms/step - loss: 0.1013 - mse: 0.1013 - val_loss: 0.1501 - val_mse: 0.1501\nEpoch 53/100\n198/198 [==============================] - 0s 2ms/step - loss: 0.0944 - mse: 0.0944 - val_loss: 0.0619 - val_mse: 0.0619\nEpoch 54/100\n198/198 [==============================] - 0s 2ms/step - loss: 0.0914 - mse: 0.0914 - val_loss: 0.0409 - val_mse: 0.0409\nEpoch 55/100\n198/198 [==============================] - 0s 2ms/step - loss: 0.0888 - mse: 0.0888 - val_loss: 0.1188 - val_mse: 0.1188\nEpoch 56/100\n198/198 [==============================] - 0s 2ms/step - loss: 0.1007 - mse: 0.1007 - val_loss: 0.1312 - val_mse: 0.1312\nEpoch 57/100\n198/198 [==============================] - 0s 2ms/step - loss: 0.0976 - mse: 0.0976 - val_loss: 0.0901 - val_mse: 0.0901\nEpoch 58/100\n198/198 [==============================] - 0s 2ms/step - loss: 0.0912 - mse: 0.0912 - val_loss: 0.0544 - val_mse: 0.0544\nEpoch 59/100\n198/198 [==============================] - 1s 3ms/step - loss: 0.1177 - mse: 0.1177 - val_loss: 0.1008 - val_mse: 0.1008\nEpoch 60/100\n198/198 [==============================] - 1s 3ms/step - loss: 0.0885 - mse: 0.0885 - val_loss: 0.0813 - val_mse: 0.0813\nEpoch 61/100\n198/198 [==============================] - 1s 3ms/step - loss: 0.0978 - mse: 0.0978 - val_loss: 0.1091 - val_mse: 0.1091\nEpoch 62/100\n198/198 [==============================] - 1s 3ms/step - loss: 0.0962 - mse: 0.0962 - val_loss: 0.1064 - val_mse: 0.1064\nEpoch 63/100\n198/198 [==============================] - 0s 2ms/step - loss: 0.1019 - mse: 0.1019 - val_loss: 0.0513 - val_mse: 0.0513\nEpoch 64/100\n198/198 [==============================] - 1s 3ms/step - loss: 0.1033 - mse: 0.1033 - val_loss: 0.4774 - val_mse: 0.4774\nEpoch 65/100\n198/198 [==============================] - 1s 3ms/step - loss: 0.1699 - mse: 0.1699 - val_loss: 0.2936 - val_mse: 0.2936\nEpoch 66/100\n198/198 [==============================] - 1s 3ms/step - loss: 0.1008 - mse: 0.1008 - val_loss: 0.0488 - val_mse: 0.0488\nEpoch 67/100\n198/198 [==============================] - 1s 3ms/step - loss: 0.0901 - mse: 0.0901 - val_loss: 0.0787 - val_mse: 0.0787\nEpoch 68/100\n198/198 [==============================] - 1s 4ms/step - loss: 0.1063 - mse: 0.1063 - val_loss: 0.0543 - val_mse: 0.0543\nEpoch 69/100\n198/198 [==============================] - 1s 3ms/step - loss: 0.1002 - mse: 0.1002 - val_loss: 0.1277 - val_mse: 0.1277\nEpoch 70/100\n198/198 [==============================] - 1s 4ms/step - loss: 0.0934 - mse: 0.0934 - val_loss: 0.1240 - val_mse: 0.1240\nEpoch 71/100\n198/198 [==============================] - 2s 9ms/step - loss: 0.1183 - mse: 0.1183 - val_loss: 0.0881 - val_mse: 0.0881\nEpoch 72/100\n198/198 [==============================] - 1s 5ms/step - loss: 0.1161 - mse: 0.1161 - val_loss: 0.1472 - val_mse: 0.1472\nEpoch 73/100\n198/198 [==============================] - 1s 6ms/step - loss: 0.1280 - mse: 0.1280 - val_loss: 0.0741 - val_mse: 0.0741\nEpoch 74/100\n198/198 [==============================] - ETA: 0s - loss: 0.0987 - mse: 0.098 - 1s 4ms/step - loss: 0.1076 - mse: 0.1076 - val_loss: 0.1614 - val_mse: 0.1614\nEpoch 75/100\n198/198 [==============================] - 0s 2ms/step - loss: 0.1769 - mse: 0.1769 - val_loss: 0.0888 - val_mse: 0.0888\nEpoch 76/100\n198/198 [==============================] - 0s 2ms/step - loss: 0.1264 - mse: 0.1264 - val_loss: 0.2126 - val_mse: 0.2126\nEpoch 77/100\n198/198 [==============================] - 0s 2ms/step - loss: 0.1110 - mse: 0.1110 - val_loss: 0.5885 - val_mse: 0.5885\nEpoch 78/100\n198/198 [==============================] - 1s 3ms/step - loss: 0.1466 - mse: 0.1466 - val_loss: 0.0494 - val_mse: 0.0494\nEpoch 79/100\n198/198 [==============================] - 0s 2ms/step - loss: 0.0946 - mse: 0.0946 - val_loss: 0.0418 - val_mse: 0.0418\nEpoch 80/100\n198/198 [==============================] - 0s 2ms/step - loss: 0.0883 - mse: 0.0883 - val_loss: 0.1036 - val_mse: 0.1036\nEpoch 81/100\n198/198 [==============================] - 0s 2ms/step - loss: 0.0918 - mse: 0.0918 - val_loss: 0.0507 - val_mse: 0.0507\nEpoch 82/100\n198/198 [==============================] - 0s 2ms/step - loss: 0.1006 - mse: 0.1006 - val_loss: 0.0350 - val_mse: 0.0350\nEpoch 83/100\n198/198 [==============================] - 0s 2ms/step - loss: 0.1022 - mse: 0.1022 - val_loss: 0.0994 - val_mse: 0.0994\nEpoch 84/100\n198/198 [==============================] - 0s 2ms/step - loss: 0.1078 - mse: 0.1078 - val_loss: 0.2331 - val_mse: 0.2331\nEpoch 85/100\n198/198 [==============================] - 0s 2ms/step - loss: 0.1022 - mse: 0.1022 - val_loss: 0.0814 - val_mse: 0.0814\nEpoch 86/100\n198/198 [==============================] - 0s 2ms/step - loss: 0.0942 - mse: 0.0942 - val_loss: 0.1371 - val_mse: 0.1371\nEpoch 87/100\n198/198 [==============================] - 0s 2ms/step - loss: 0.0955 - mse: 0.0955 - val_loss: 0.0523 - val_mse: 0.0523\nEpoch 88/100\n198/198 [==============================] - 0s 2ms/step - loss: 0.1069 - mse: 0.1069 - val_loss: 0.2088 - val_mse: 0.2088\nEpoch 89/100\n198/198 [==============================] - 0s 2ms/step - loss: 0.0896 - mse: 0.0896 - val_loss: 0.0359 - val_mse: 0.0359\nEpoch 90/100\n198/198 [==============================] - 1s 3ms/step - loss: 0.0919 - mse: 0.0919 - val_loss: 0.0882 - val_mse: 0.0882\nEpoch 91/100\n198/198 [==============================] - 0s 2ms/step - loss: 0.1124 - mse: 0.1124 - val_loss: 0.0807 - val_mse: 0.0807\nEpoch 92/100\n198/198 [==============================] - 1s 3ms/step - loss: 0.1106 - mse: 0.1106 - val_loss: 0.1626 - val_mse: 0.1626\nEpoch 93/100\n198/198 [==============================] - 0s 2ms/step - loss: 0.0951 - mse: 0.0951 - val_loss: 0.0483 - val_mse: 0.0483\nEpoch 94/100\n198/198 [==============================] - 0s 2ms/step - loss: 0.0954 - mse: 0.0954 - val_loss: 0.0769 - val_mse: 0.0769\nEpoch 95/100\n198/198 [==============================] - 0s 2ms/step - loss: 0.0888 - mse: 0.0888 - val_loss: 0.1123 - val_mse: 0.1123\nEpoch 96/100\n198/198 [==============================] - 1s 4ms/step - loss: 0.0905 - mse: 0.0905 - val_loss: 0.0729 - val_mse: 0.0729\nEpoch 97/100\n198/198 [==============================] - 1s 5ms/step - loss: 0.0894 - mse: 0.0894 - val_loss: 0.0587 - val_mse: 0.0587\nEpoch 98/100\n198/198 [==============================] - 2s 9ms/step - loss: 0.0861 - mse: 0.0861 - val_loss: 0.0363 - val_mse: 0.0363\nEpoch 99/100\n198/198 [==============================] - 3s 14ms/step - loss: 0.1046 - mse: 0.1046 - val_loss: 0.2990 - val_mse: 0.2990\nEpoch 100/100\n198/198 [==============================] - 0s 2ms/step - loss: 0.1085 - mse: 0.1085 - val_loss: 0.0633 - val_mse: 0.0633\n",
          "name": "stdout"
        },
        {
          "output_type": "execute_result",
          "execution_count": 116,
          "data": {
            "text/plain": "<keras.callbacks.callbacks.History at 0x7ff000e79588>"
          },
          "metadata": {}
        }
      ]
    },
    {
      "metadata": {
        "trusted": true
      },
      "cell_type": "code",
      "source": "encoded_countries",
      "execution_count": 117,
      "outputs": [
        {
          "output_type": "execute_result",
          "execution_count": 117,
          "data": {
            "text/plain": "{0: 'Belize',\n 1: 'Ecuador',\n 2: 'Others',\n 3: 'Serbia',\n 4: 'Djibouti',\n 5: 'Hungary',\n 6: 'Gambia',\n 7: 'Iraq',\n 8: 'West Bank and Gaza',\n 9: 'Iceland',\n 10: 'UK',\n 11: 'Zimbabwe',\n 12: 'Romania',\n 13: 'Somalia',\n 14: 'Rwanda',\n 15: 'Bhutan',\n 16: 'Kuwait',\n 17: 'Niger',\n 18: 'Liberia',\n 19: 'Seychelles',\n 20: 'Singapore',\n 21: 'Jersey',\n 22: 'Sao Tome and Principe',\n 23: 'France',\n 24: 'Cape Verde',\n 25: 'Congo (Kinshasa)',\n 26: 'Bahrain',\n 27: 'Senegal',\n 28: 'El Salvador',\n 29: 'Republic of Ireland',\n 30: 'Taiwan',\n 31: 'Czech Republic',\n 32: 'Hong Kong',\n 33: 'Cameroon',\n 34: 'Greece',\n 35: 'Slovakia',\n 36: 'East Timor',\n 37: 'Tunisia',\n 38: 'occupied Palestinian territory',\n 39: 'Ghana',\n 40: 'Sweden',\n 41: 'Vatican City',\n 42: 'Lebanon',\n 43: 'Tanzania',\n 44: 'Barbados',\n 45: 'Mongolia',\n 46: 'Turkey',\n 47: 'Mauritius',\n 48: 'Sri Lanka',\n 49: 'Guatemala',\n 50: 'Burkina Faso',\n 51: 'Madagascar',\n 52: 'Jordan',\n 53: 'Cabo Verde',\n 54: 'Western Sahara',\n 55: 'Curacao',\n 56: 'Gibraltar',\n 57: 'Morocco',\n 58: 'Holy See',\n 59: 'Dominican Republic',\n 60: 'Saint Kitts and Nevis',\n 61: 'Togo',\n 62: 'Venezuela',\n 63: 'Ethiopia',\n 64: 'Nigeria',\n 65: 'Mauritania',\n 66: 'Slovenia',\n 67: 'Moldova',\n 68: 'Eritrea',\n 69: 'Mozambique',\n 70: 'Italy',\n 71: 'Algeria',\n 72: 'Egypt',\n 73: 'Libya',\n 74: 'Yemen',\n 75: 'South Sudan',\n 76: 'Macau',\n 77: 'Indonesia',\n 78: 'Norway',\n 79: 'Russia',\n 80: 'Brazil',\n 81: 'Ivory Coast',\n 82: 'Tajikistan',\n 83: 'Pakistan',\n 84: 'Vietnam',\n 85: 'Uruguay',\n 86: 'The Bahamas',\n 87: 'Andorra',\n 88: 'Belarus',\n 89: 'Kazakhstan',\n 90: 'Channel Islands',\n 91: 'Ukraine',\n 92: 'Monaco',\n 93: 'Cuba',\n 94: 'Philippines',\n 95: 'Austria',\n 96: 'Afghanistan',\n 97: 'The Gambia',\n 98: 'Montenegro',\n 99: 'Japan',\n 100: 'US',\n 101: 'Costa Rica',\n 102: 'Guernsey',\n 103: 'Azerbaijan',\n 104: 'Burma',\n 105: 'India',\n 106: 'Lesotho',\n 107: 'Antigua and Barbuda',\n 108: 'Martinique',\n 109: 'Saint Lucia',\n 110: 'Haiti',\n 111: 'Malaysia',\n 112: 'Sudan',\n 113: 'Denmark',\n 114: 'Bolivia',\n 115: 'Brunei',\n 116: 'North Ireland',\n 117: 'Bulgaria',\n 118: 'Grenada',\n 119: 'Papua New Guinea',\n 120: 'Saint Barthelemy',\n 121: 'Botswana',\n 122: 'Chile',\n 123: 'Greenland',\n 124: 'Guam',\n 125: 'Malawi',\n 126: 'Laos',\n 127: 'Switzerland',\n 128: 'Argentina',\n 129: 'Gabon',\n 130: 'Malta',\n 131: 'Armenia',\n 132: 'Faroe Islands',\n 133: 'Aruba',\n 134: 'Georgia',\n 135: 'Germany',\n 136: 'Nepal',\n 137: 'New Zealand',\n 138: 'South Africa',\n 139: 'Oman',\n 140: 'Cambodia',\n 141: 'Colombia',\n 142: 'Bangladesh',\n 143: 'French Guiana',\n 144: 'Spain',\n 145: 'Peru',\n 146: 'Australia',\n 147: 'Guinea',\n 148: 'Albania',\n 149: 'Iran',\n 150: 'Burundi',\n 151: 'Syria',\n 152: 'Trinidad and Tobago',\n 153: 'Angola',\n 154: 'Canada',\n 155: 'Equatorial Guinea',\n 156: 'Croatia',\n 157: 'Diamond Princess',\n 158: 'Kenya',\n 159: 'Saint Vincent and the Grenadines',\n 160: 'St. Martin',\n 161: 'Puerto Rico',\n 162: 'Cyprus',\n 163: 'Congo (Brazzaville)',\n 164: 'Benin',\n 165: 'Mexico',\n 166: 'Cayman Islands',\n 167: 'Fiji',\n 168: 'Finland',\n 169: 'Suriname',\n 170: 'Mali',\n 171: 'Kyrgyzstan',\n 172: 'Zambia',\n 173: 'Paraguay',\n 174: 'Nicaragua',\n 175: 'Reunion',\n 176: 'Palestine',\n 177: 'Liechtenstein',\n 178: 'Netherlands',\n 179: 'Panama',\n 180: 'Saudi Arabia',\n 181: 'Guadeloupe',\n 182: 'Estonia',\n 183: 'Sierra Leone',\n 184: 'Ireland',\n 185: 'Qatar',\n 186: 'Mayotte',\n 187: 'Guinea-Bissau',\n 188: 'Maldives',\n 189: 'Comoros',\n 190: 'Timor-Leste',\n 191: 'Honduras',\n 192: 'Guyana',\n 193: 'Luxembourg',\n 194: 'MS Zaandam',\n 195: 'South Korea',\n 196: 'Jamaica',\n 197: 'Israel',\n 198: 'Dominica',\n 199: 'Lithuania',\n 200: 'Poland',\n 201: 'Central African Republic',\n 202: 'Eswatini',\n 203: 'Gambia, The',\n 204: 'Thailand',\n 205: 'Kosovo',\n 206: 'Bahamas',\n 207: 'Chad',\n 208: 'Latvia',\n 209: 'San Marino',\n 210: 'Namibia',\n 211: 'Bosnia and Herzegovina',\n 212: 'Belgium',\n 213: 'Portugal',\n 214: 'Uganda',\n 215: 'Republic of the Congo',\n 216: 'Uzbekistan',\n 217: 'Mainland China',\n 218: 'North Macedonia',\n 219: 'United Arab Emirates'}"
          },
          "metadata": {}
        }
      ]
    },
    {
      "metadata": {
        "trusted": true
      },
      "cell_type": "code",
      "source": "y_pred = model.predict([138])",
      "execution_count": 119,
      "outputs": []
    }
  ],
  "metadata": {
    "kernelspec": {
      "name": "python36",
      "display_name": "Python 3.6",
      "language": "python"
    },
    "language_info": {
      "mimetype": "text/x-python",
      "nbconvert_exporter": "python",
      "name": "python",
      "pygments_lexer": "ipython3",
      "version": "3.6.6",
      "file_extension": ".py",
      "codemirror_mode": {
        "version": 3,
        "name": "ipython"
      }
    }
  },
  "nbformat": 4,
  "nbformat_minor": 2
}