{
  "cells": [
    {
      "metadata": {
        "trusted": true
      },
      "cell_type": "code",
      "source": "!pip install --upgrade pip\n!pip install tensorflow keras pandas numpy sklearn matplotlib",
      "execution_count": 2,
      "outputs": [
        {
          "output_type": "stream",
          "text": "Collecting pip\n  Using cached https://files.pythonhosted.org/packages/43/84/23ed6a1796480a6f1a2d38f2802901d078266bda38388954d01d3f2e821d/pip-20.1.1-py2.py3-none-any.whl\nInstalling collected packages: pip\n  Found existing installation: pip 19.3.1\n    Uninstalling pip-19.3.1:\n      Successfully uninstalled pip-19.3.1\nSuccessfully installed pip-20.1.1\nRequirement already satisfied: tensorflow in /home/nbuser/anaconda3_501/lib/python3.6/site-packages (2.0.0b1)\nRequirement already satisfied: keras in /home/nbuser/anaconda3_501/lib/python3.6/site-packages (2.3.1)\nRequirement already satisfied: pandas in /home/nbuser/anaconda3_501/lib/python3.6/site-packages (0.23.4)\nRequirement already satisfied: numpy in /home/nbuser/anaconda3_501/lib/python3.6/site-packages (1.16.2)\nRequirement already satisfied: sklearn in /home/nbuser/anaconda3_501/lib/python3.6/site-packages (0.0)\nRequirement already satisfied: matplotlib in /home/nbuser/anaconda3_501/lib/python3.6/site-packages (3.0.0)\nRequirement already satisfied: google-pasta>=0.1.6 in /home/nbuser/anaconda3_501/lib/python3.6/site-packages (from tensorflow) (0.1.8)\nRequirement already satisfied: tb-nightly<1.14.0a20190604,>=1.14.0a20190603 in /home/nbuser/anaconda3_501/lib/python3.6/site-packages (from tensorflow) (1.14.0a20190603)\nRequirement already satisfied: wheel>=0.26 in /home/nbuser/anaconda3_501/lib/python3.6/site-packages (from tensorflow) (0.30.0)\nRequirement already satisfied: wrapt>=1.11.1 in /home/nbuser/anaconda3_501/lib/python3.6/site-packages (from tensorflow) (1.11.2)\nRequirement already satisfied: protobuf>=3.6.1 in /home/nbuser/anaconda3_501/lib/python3.6/site-packages (from tensorflow) (3.10.0)\nRequirement already satisfied: astor>=0.6.0 in /home/nbuser/anaconda3_501/lib/python3.6/site-packages (from tensorflow) (0.8.0)\nRequirement already satisfied: absl-py>=0.7.0 in /home/nbuser/anaconda3_501/lib/python3.6/site-packages (from tensorflow) (0.8.1)\nRequirement already satisfied: tf-estimator-nightly<1.14.0.dev2019060502,>=1.14.0.dev2019060501 in /home/nbuser/anaconda3_501/lib/python3.6/site-packages (from tensorflow) (1.14.0.dev2019060501)\nRequirement already satisfied: keras-preprocessing>=1.0.5 in /home/nbuser/anaconda3_501/lib/python3.6/site-packages (from tensorflow) (1.1.0)\nRequirement already satisfied: termcolor>=1.1.0 in /home/nbuser/anaconda3_501/lib/python3.6/site-packages (from tensorflow) (1.1.0)\nRequirement already satisfied: grpcio>=1.8.6 in /home/nbuser/anaconda3_501/lib/python3.6/site-packages (from tensorflow) (1.25.0)\nRequirement already satisfied: gast>=0.2.0 in /home/nbuser/anaconda3_501/lib/python3.6/site-packages (from tensorflow) (0.3.2)\nRequirement already satisfied: six>=1.10.0 in /home/nbuser/anaconda3_501/lib/python3.6/site-packages (from tensorflow) (1.11.0)\nRequirement already satisfied: keras-applications>=1.0.6 in /home/nbuser/anaconda3_501/lib/python3.6/site-packages (from tensorflow) (1.0.8)\nRequirement already satisfied: pyyaml in /home/nbuser/anaconda3_501/lib/python3.6/site-packages (from keras) (3.13)\nRequirement already satisfied: h5py in /home/nbuser/anaconda3_501/lib/python3.6/site-packages (from keras) (2.8.0)\nRequirement already satisfied: scipy>=0.14 in /home/nbuser/anaconda3_501/lib/python3.6/site-packages (from keras) (1.1.0)\nRequirement already satisfied: python-dateutil>=2.5.0 in /home/nbuser/anaconda3_501/lib/python3.6/site-packages (from pandas) (2.8.1)\nRequirement already satisfied: pytz>=2011k in /home/nbuser/anaconda3_501/lib/python3.6/site-packages (from pandas) (2019.3)\nRequirement already satisfied: scikit-learn in /home/nbuser/anaconda3_501/lib/python3.6/site-packages (from sklearn) (0.20.3)\nRequirement already satisfied: cycler>=0.10 in /home/nbuser/anaconda3_501/lib/python3.6/site-packages (from matplotlib) (0.10.0)\nRequirement already satisfied: kiwisolver>=1.0.1 in /home/nbuser/anaconda3_501/lib/python3.6/site-packages (from matplotlib) (1.0.1)\nRequirement already satisfied: pyparsing!=2.0.4,!=2.1.2,!=2.1.6,>=2.0.1 in /home/nbuser/anaconda3_501/lib/python3.6/site-packages (from matplotlib) (2.3.0)\nRequirement already satisfied: setuptools>=41.0.0 in /home/nbuser/anaconda3_501/lib/python3.6/site-packages (from tb-nightly<1.14.0a20190604,>=1.14.0a20190603->tensorflow) (41.6.0)\nRequirement already satisfied: markdown>=2.6.8 in /home/nbuser/anaconda3_501/lib/python3.6/site-packages (from tb-nightly<1.14.0a20190604,>=1.14.0a20190603->tensorflow) (3.0.1)\nRequirement already satisfied: werkzeug>=0.11.15 in /home/nbuser/anaconda3_501/lib/python3.6/site-packages (from tb-nightly<1.14.0a20190604,>=1.14.0a20190603->tensorflow) (0.14.1)\n",
          "name": "stdout"
        }
      ]
    },
    {
      "metadata": {
        "trusted": true
      },
      "cell_type": "code",
      "source": "import numpy as np\nimport pandas as pd\nimport tensorflow as tf\nimport keras\nfrom keras import Sequential\nfrom keras.layers import Dense, Dropout\nfrom sklearn.model_selection import train_test_split",
      "execution_count": 6,
      "outputs": []
    },
    {
      "metadata": {
        "trusted": true
      },
      "cell_type": "code",
      "source": "",
      "execution_count": null,
      "outputs": []
    }
  ],
  "metadata": {
    "kernelspec": {
      "name": "python36",
      "display_name": "Python 3.6",
      "language": "python"
    },
    "language_info": {
      "mimetype": "text/x-python",
      "nbconvert_exporter": "python",
      "name": "python",
      "pygments_lexer": "ipython3",
      "version": "3.6.6",
      "file_extension": ".py",
      "codemirror_mode": {
        "version": 3,
        "name": "ipython"
      }
    }
  },
  "nbformat": 4,
  "nbformat_minor": 2
}