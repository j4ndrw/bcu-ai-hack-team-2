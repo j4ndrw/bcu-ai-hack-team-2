{
  "cells": [
    {
      "metadata": {},
      "cell_type": "markdown",
      "source": "# How COVID-19 started and how much has it affected the world?\n\nOn December 31, 2019, the World Health Organisation’s (WHO) China office heard the first reports of a previously-unknown virus behind a number of pneumonia cases in Wuhan, a city in Eastern China with a population of over 11 million.<br>\n\nWhat started as an epidemic mainly limited to China has now become a truly global pandemic. There have now been over 5,595,091 confirmed cases and 350,547 deaths, which collates. The disease has been detected in more than 200 countries and territories, with the US, Brazil and Russia experiencing the most widespread outbreaks, followed by the UK, Spain and Italy. In the UK, there have been <b>265,227 confirmed cases</b> and <b>37,048 deaths</b> as of May 26.\n\nThe Chinese government responded to the initial outbreak by placing Wuhan and nearby cities under a de-facto quarantine encompassing roughly 50 million people in Hubei province. This quarantine is now slowly being lifted, as authorities watch to see whether cases will rise again. The US is now the new epicentre of the Covid-19 outbreak. As of May 27, the country has 1,681,418 confirmed infections and 98,929 deaths. In Italy, where the death toll surpassed that of China on March 19, the government took the unprecedented step of extending a lockdown to the entire country, shutting cinemas, theatres, gyms, discos and pubs and banning funerals and weddings. In the UK, the government has shut schools, pubs, restaurants, bars, cafés and all non-essential shops for at least nine weeks. On May 10 Boris Johnson outlined a flexible plan that would see some schools reopen by June depending on the current threat posed to the UK by the virus.<br>\n\nRead more about this [here](https://www.newscientist.com/term/covid-19/#ixzz6TbAe5Tlb)"
    },
    {
      "metadata": {},
      "cell_type": "markdown",
      "source": "Authorities in 214 countries and territories have reported about 16.8 million Covid‑19 cases and 662,000 deaths since China reported its first cases to the World Health Organization (WHO) in December. "
    },
    {
      "metadata": {},
      "cell_type": "markdown",
      "source": "The outbreak spread from the Chinese city of Wuhan to more than 180 countries and territories—affecting every continent except Antarctica. Efforts to stamp out the pneumonia-like illness have led to entire nations enforcing lockdowns, widespread halts of international travel, mass layoffs and battered financial markets."
    },
    {
      "metadata": {},
      "cell_type": "markdown",
      "source": "<b><i>16,776,680</i></b> <b>Confirmed cases worldwide</b><br>\n<b><i>661,203</i></b> <b>Deaths worldwide</b> "
    },
    {
      "metadata": {},
      "cell_type": "markdown",
      "source": "On Jan. 24, the first two European cases were confirmed in France. By Feb. 1, eight European nations had confirmed cases of COVID-19, and a month later that count had risen to 24 countries with at least 2,200 cases, most of them in Italy. On March 11, Italy eclipsed 10,000 cases and the World Health Organization declared the outbreak a pandemic — the first since H1N1 in 2009. That's also when China, the original epicenter, began seeing drops in daily counts of new cases.<br>\n\nMarch also saw exponential spread of the virus throughout the U.S., with all 50 states reporting cases by March 17.<br> \n\nLatin America is now the epicenter of the pandemic. Brazil is the worst-hit in the region so far, with almost 90,000 deaths.<br> \n\nIn Asia, India has seen almost 1.5 million cases and several states re-imposed partial lockdowns just weeks after a two-month nationwide lockdown was ended.<br> \n\nSouth Africa and Egypt have seen the largest outbreaks so far in Africa. "
    },
    {
      "metadata": {},
      "cell_type": "markdown",
      "source": "# How to prevent the spreading of COVID-19 according to WHO? \n\n- Limit close contact between infectious people and others. Ensure a physical distance of at least 1 meter from others.  In areas where COVID-19 is circulating and this distance cannot be guaranteed, wear a <b>mask</b>.\n- Identify infected people quickly so that they can be isolated and cared for and all of their close contacts can be <b>quarantined</b> in appropriate facilities.\n- Clean hands and cover coughs and sneezes with a tissue or bent elbow at all times.\n- Avoid crowded places, close-contact settings and confined and enclosed spaces with poor ventilation. \n- Ensure good ventilation in indoor settings, including homes and offices.\n- Stay home if feeling unwell and call your medical provider as soon as possible to determine whether medical care is needed.\n- In countries or areas where COVID-19 is circulating, health workers should use medical masks continuously during all routine activities in clinical areas in health care facilities.\n- Health workers should also use additional personal protective equipment and <b>precautions when caring for COVID-19 patients</b>. Workplaces should have in place protective measures. "
    },
    {
      "metadata": {},
      "cell_type": "markdown",
      "source": "# Preventions to be taken\n\n- To prevent the spread of COVID-19: \n- Clean your hands often. Use soap and water, or an alcohol-based hand rub. \n- Maintain a safe distance from anyone who is coughing or sneezing. \n- Wear a mask when physical distancing is not possible. \n- Don’t touch your eyes, nose or mouth. \n- Cover your nose and mouth with your bent elbow or a tissue when you cough or sneeze. \n- Stay home if you feel unwell. \n- If you have a fever, cough and difficulty breathing, seek medical attention. \n- Calling in advance allows your healthcare provider to quickly direct you to the right health facility. This protects you, and prevents the spread of viruses and other infections. "
    },
    {
      "metadata": {},
      "cell_type": "markdown",
      "source": "# The effect of COVID-19 Worldwide"
    },
    {
      "metadata": {
        "trusted": true
      },
      "cell_type": "markdown",
      "source": "                                                                                    EFFECT ON ECONOMY\n![](/images/covid_effect_on_economy.png)"
    },
    {
      "metadata": {},
      "cell_type": "markdown",
      "source": "                                                                                         OUTBREAK\n![](/images/covid_outbreak.png)"
    },
    {
      "metadata": {},
      "cell_type": "markdown",
      "source": "                                                                      FACTORS THAT AGGRAVATE THE COVID-19 PANDEMIC\n![](/images/factors.png)"
    },
    {
      "metadata": {},
      "cell_type": "markdown",
      "source": "![](/images/cases_up_to_100.png)"
    },
    {
      "metadata": {},
      "cell_type": "markdown",
      "source": "![](/images/cases_up_to_1k.png)"
    },
    {
      "metadata": {
        "trusted": true
      },
      "cell_type": "markdown",
      "source": "![](/images/cases_up_to_10k.png)"
    },
    {
      "metadata": {},
      "cell_type": "markdown",
      "source": "![](/images/cases_up_to_40k.png)"
    },
    {
      "metadata": {},
      "cell_type": "markdown",
      "source": "# Predicting future cases of COVID-19 for every country based on previous data\n\nFrom a technical standpoint, the way we can do this is by creating a linear regression statistical model and train it based on the .csv data containing various cases of COVID-19.\n\nThis is a classic machine learning task, used quite frequently in the forecast domain, the finance industry for predicting the value various currencies and many more. Even though this task is basic, it doesn't mean it is necessarily easy as, on average, as much as regression models can be accurate, they shouldn't be a source which we can rely on.\n\nThe results given by a regression model <b> heavily </b> rely on previous numeric data and doesn't adapt data is hasn't seen, whereas other models used in other deep learning, such as Long-Short Term Memory (LSTM) models can adapt to give out different results (of course, based on context as data).\n\nThis being said, this regression model that we're going to be using <b> should not </b> be relied upon, it simply represents a numeric illustration of how things <b> can </b> evolve in the future"
    },
    {
      "metadata": {},
      "cell_type": "markdown",
      "source": "# How do we create such model?\n\nGiven the short time frame and the fact that this is a classic problem, we don't need to worry about creating new models from scratch. We can use SOTA (State of the Art) methods that allow us to do this. Thus, our codebase will rely on Keras, a library which relies on TensorFlow's backend, TensorFlow being one of the main frameworks used for various machine learning tasks.\n\nBefore this though, we will need to filter our data in some way. The Pandas library can help us for this! With it, we can do various data profiling and data filtering tasks. We will use this to filter out our data."
    },
    {
      "metadata": {
        "trusted": true,
        "scrolled": true
      },
      "cell_type": "code",
      "source": "!pip install numpy tensorflow keras sklearn matplotlib pandas",
      "execution_count": 1,
      "outputs": [
        {
          "output_type": "stream",
          "text": "Requirement already satisfied: numpy in /home/nbuser/anaconda3_501/lib/python3.6/site-packages (1.16.2)\nRequirement already satisfied: tensorflow in /home/nbuser/anaconda3_501/lib/python3.6/site-packages (2.0.0b1)\nRequirement already satisfied: keras in /home/nbuser/anaconda3_501/lib/python3.6/site-packages (2.3.1)\nRequirement already satisfied: sklearn in /home/nbuser/anaconda3_501/lib/python3.6/site-packages (0.0)\nRequirement already satisfied: matplotlib in /home/nbuser/anaconda3_501/lib/python3.6/site-packages (3.0.0)\nRequirement already satisfied: pandas in /home/nbuser/anaconda3_501/lib/python3.6/site-packages (0.23.4)\nRequirement already satisfied: tf-estimator-nightly<1.14.0.dev2019060502,>=1.14.0.dev2019060501 in /home/nbuser/anaconda3_501/lib/python3.6/site-packages (from tensorflow) (1.14.0.dev2019060501)\nRequirement already satisfied: google-pasta>=0.1.6 in /home/nbuser/anaconda3_501/lib/python3.6/site-packages (from tensorflow) (0.1.8)\nRequirement already satisfied: astor>=0.6.0 in /home/nbuser/anaconda3_501/lib/python3.6/site-packages (from tensorflow) (0.8.0)\nRequirement already satisfied: wrapt>=1.11.1 in /home/nbuser/anaconda3_501/lib/python3.6/site-packages (from tensorflow) (1.11.2)\nRequirement already satisfied: keras-applications>=1.0.6 in /home/nbuser/anaconda3_501/lib/python3.6/site-packages (from tensorflow) (1.0.8)\nRequirement already satisfied: gast>=0.2.0 in /home/nbuser/anaconda3_501/lib/python3.6/site-packages (from tensorflow) (0.3.2)\nRequirement already satisfied: wheel>=0.26 in /home/nbuser/anaconda3_501/lib/python3.6/site-packages (from tensorflow) (0.30.0)\nRequirement already satisfied: termcolor>=1.1.0 in /home/nbuser/anaconda3_501/lib/python3.6/site-packages (from tensorflow) (1.1.0)\nRequirement already satisfied: six>=1.10.0 in /home/nbuser/anaconda3_501/lib/python3.6/site-packages (from tensorflow) (1.11.0)\nRequirement already satisfied: absl-py>=0.7.0 in /home/nbuser/anaconda3_501/lib/python3.6/site-packages (from tensorflow) (0.8.1)\nRequirement already satisfied: keras-preprocessing>=1.0.5 in /home/nbuser/anaconda3_501/lib/python3.6/site-packages (from tensorflow) (1.1.0)\nRequirement already satisfied: protobuf>=3.6.1 in /home/nbuser/anaconda3_501/lib/python3.6/site-packages (from tensorflow) (3.10.0)\nRequirement already satisfied: grpcio>=1.8.6 in /home/nbuser/anaconda3_501/lib/python3.6/site-packages (from tensorflow) (1.25.0)\nRequirement already satisfied: tb-nightly<1.14.0a20190604,>=1.14.0a20190603 in /home/nbuser/anaconda3_501/lib/python3.6/site-packages (from tensorflow) (1.14.0a20190603)\nRequirement already satisfied: h5py in /home/nbuser/anaconda3_501/lib/python3.6/site-packages (from keras) (2.8.0)\nRequirement already satisfied: pyyaml in /home/nbuser/anaconda3_501/lib/python3.6/site-packages (from keras) (3.13)\nRequirement already satisfied: scipy>=0.14 in /home/nbuser/anaconda3_501/lib/python3.6/site-packages (from keras) (1.1.0)\nRequirement already satisfied: scikit-learn in /home/nbuser/anaconda3_501/lib/python3.6/site-packages (from sklearn) (0.20.3)\nRequirement already satisfied: cycler>=0.10 in /home/nbuser/anaconda3_501/lib/python3.6/site-packages (from matplotlib) (0.10.0)\nRequirement already satisfied: kiwisolver>=1.0.1 in /home/nbuser/anaconda3_501/lib/python3.6/site-packages (from matplotlib) (1.0.1)\nRequirement already satisfied: pyparsing!=2.0.4,!=2.1.2,!=2.1.6,>=2.0.1 in /home/nbuser/anaconda3_501/lib/python3.6/site-packages (from matplotlib) (2.3.0)\nRequirement already satisfied: python-dateutil>=2.1 in /home/nbuser/anaconda3_501/lib/python3.6/site-packages (from matplotlib) (2.8.1)\nRequirement already satisfied: pytz>=2011k in /home/nbuser/anaconda3_501/lib/python3.6/site-packages (from pandas) (2019.3)\nRequirement already satisfied: setuptools in /home/nbuser/anaconda3_501/lib/python3.6/site-packages (from protobuf>=3.6.1->tensorflow) (41.6.0)\nRequirement already satisfied: werkzeug>=0.11.15 in /home/nbuser/anaconda3_501/lib/python3.6/site-packages (from tb-nightly<1.14.0a20190604,>=1.14.0a20190603->tensorflow) (0.14.1)\nRequirement already satisfied: markdown>=2.6.8 in /home/nbuser/anaconda3_501/lib/python3.6/site-packages (from tb-nightly<1.14.0a20190604,>=1.14.0a20190603->tensorflow) (3.0.1)\n\u001b[33mWARNING: You are using pip version 19.3.1; however, version 20.2 is available.\nYou should consider upgrading via the 'pip install --upgrade pip' command.\u001b[0m\n",
          "name": "stdout"
        }
      ]
    },
    {
      "metadata": {
        "trusted": true
      },
      "cell_type": "code",
      "source": "import numpy as np\nimport pandas as pd\nimport tensorflow as tf\nimport keras\nfrom keras.models import Sequential\nfrom keras.layers import Dense, Dropout, BatchNormalization\nimport keras.backend as K\nfrom keras.callbacks import ModelCheckpoint\nfrom keras.optimizers import Adam, SGD\nfrom sklearn.model_selection import train_test_split\nfrom keras.wrappers.scikit_learn import KerasRegressor\nfrom sklearn.metrics import mean_squared_error\n\nimport matplotlib.pyplot as plt\n\nnp.set_printoptions(precision = 3)",
      "execution_count": 64,
      "outputs": []
    },
    {
      "metadata": {},
      "cell_type": "markdown",
      "source": "# Data Analysis"
    },
    {
      "metadata": {},
      "cell_type": "markdown",
      "source": "## Examining and Filtering data\n\nHere, we take our data and read is with Pandas so that we can do a bunch of things with it.<br>\nWe are only interested in the Country, Confirmed, Deaths and Recovered columns."
    },
    {
      "metadata": {
        "trusted": true
      },
      "cell_type": "code",
      "source": "dataset_path = './data/covid_19_data.csv'\n\ndataset = pd.read_csv(\n    dataset_path, \n    usecols = [\n        'Country/Region',\n        'Confirmed',\n        'Deaths',\n        'Recovered'\n    ]\n)",
      "execution_count": 65,
      "outputs": []
    },
    {
      "metadata": {},
      "cell_type": "markdown",
      "source": "Let's take a look at how our data looks!"
    },
    {
      "metadata": {
        "trusted": true
      },
      "cell_type": "code",
      "source": "dataset.tail()",
      "execution_count": 66,
      "outputs": [
        {
          "output_type": "execute_result",
          "execution_count": 66,
          "data": {
            "text/html": "<div>\n<style scoped>\n    .dataframe tbody tr th:only-of-type {\n        vertical-align: middle;\n    }\n\n    .dataframe tbody tr th {\n        vertical-align: top;\n    }\n\n    .dataframe thead th {\n        text-align: right;\n    }\n</style>\n<table border=\"1\" class=\"dataframe\">\n  <thead>\n    <tr style=\"text-align: right;\">\n      <th></th>\n      <th>Country/Region</th>\n      <th>Confirmed</th>\n      <th>Deaths</th>\n      <th>Recovered</th>\n    </tr>\n  </thead>\n  <tbody>\n    <tr>\n      <th>68553</th>\n      <td>Ukraine</td>\n      <td>678</td>\n      <td>20</td>\n      <td>551</td>\n    </tr>\n    <tr>\n      <th>68554</th>\n      <td>Netherlands</td>\n      <td>791</td>\n      <td>69</td>\n      <td>0</td>\n    </tr>\n    <tr>\n      <th>68555</th>\n      <td>Mainland China</td>\n      <td>1270</td>\n      <td>1</td>\n      <td>1267</td>\n    </tr>\n    <tr>\n      <th>68556</th>\n      <td>Ukraine</td>\n      <td>1602</td>\n      <td>34</td>\n      <td>1251</td>\n    </tr>\n    <tr>\n      <th>68557</th>\n      <td>Netherlands</td>\n      <td>11886</td>\n      <td>1305</td>\n      <td>0</td>\n    </tr>\n  </tbody>\n</table>\n</div>",
            "text/plain": "       Country/Region  Confirmed  Deaths  Recovered\n68553         Ukraine        678      20        551\n68554     Netherlands        791      69          0\n68555  Mainland China       1270       1       1267\n68556         Ukraine       1602      34       1251\n68557     Netherlands      11886    1305          0"
          },
          "metadata": {}
        }
      ]
    },
    {
      "metadata": {},
      "cell_type": "markdown",
      "source": "Let's see what the general statistics of this data are."
    },
    {
      "metadata": {
        "trusted": true
      },
      "cell_type": "code",
      "source": "dataset.describe()",
      "execution_count": 67,
      "outputs": [
        {
          "output_type": "execute_result",
          "execution_count": 67,
          "data": {
            "text/html": "<div>\n<style scoped>\n    .dataframe tbody tr th:only-of-type {\n        vertical-align: middle;\n    }\n\n    .dataframe tbody tr th {\n        vertical-align: top;\n    }\n\n    .dataframe thead th {\n        text-align: right;\n    }\n</style>\n<table border=\"1\" class=\"dataframe\">\n  <thead>\n    <tr style=\"text-align: right;\">\n      <th></th>\n      <th>Confirmed</th>\n      <th>Deaths</th>\n      <th>Recovered</th>\n    </tr>\n  </thead>\n  <tbody>\n    <tr>\n      <th>count</th>\n      <td>68558.000000</td>\n      <td>68558.000000</td>\n      <td>6.855800e+04</td>\n    </tr>\n    <tr>\n      <th>mean</th>\n      <td>10472.017883</td>\n      <td>564.674874</td>\n      <td>4.830826e+03</td>\n    </tr>\n    <tr>\n      <th>std</th>\n      <td>32092.929744</td>\n      <td>2516.087659</td>\n      <td>2.712376e+04</td>\n    </tr>\n    <tr>\n      <th>min</th>\n      <td>0.000000</td>\n      <td>0.000000</td>\n      <td>0.000000e+00</td>\n    </tr>\n    <tr>\n      <th>25%</th>\n      <td>107.000000</td>\n      <td>1.000000</td>\n      <td>0.000000e+00</td>\n    </tr>\n    <tr>\n      <th>50%</th>\n      <td>998.000000</td>\n      <td>17.000000</td>\n      <td>1.370000e+02</td>\n    </tr>\n    <tr>\n      <th>75%</th>\n      <td>5361.000000</td>\n      <td>168.000000</td>\n      <td>1.488000e+03</td>\n    </tr>\n    <tr>\n      <th>max</th>\n      <td>416434.000000</td>\n      <td>41128.000000</td>\n      <td>1.160087e+06</td>\n    </tr>\n  </tbody>\n</table>\n</div>",
            "text/plain": "           Confirmed        Deaths     Recovered\ncount   68558.000000  68558.000000  6.855800e+04\nmean    10472.017883    564.674874  4.830826e+03\nstd     32092.929744   2516.087659  2.712376e+04\nmin         0.000000      0.000000  0.000000e+00\n25%       107.000000      1.000000  0.000000e+00\n50%       998.000000     17.000000  1.370000e+02\n75%      5361.000000    168.000000  1.488000e+03\nmax    416434.000000  41128.000000  1.160087e+06"
          },
          "metadata": {}
        }
      ]
    },
    {
      "metadata": {},
      "cell_type": "markdown",
      "source": "Alright... The numbers are scary... <br>\nWhat we are interested in is the general mean for each case.<br>\nIf you take a look, you can see that, on average, worldwide, there are around <b> 10472 confirmed cases </b> of COVID-19, <b> 565 deaths cases </b> and <b> 4830 recovered cases </b><br>\nThe numbers are quite big... they will aid us in carrying this task."
    },
    {
      "metadata": {},
      "cell_type": "markdown",
      "source": "Nice, now that we've a got a feel of what we're working with, let's get into preprocessing this data."
    },
    {
      "metadata": {},
      "cell_type": "markdown",
      "source": "## Preprocessing the data\n\nWhat we have come across is that there are a few entries that aren't properly sanitized.<br>\nTo give an example, the \"St. Martin\" entry is also entered as \"('St. Martin',)\".<br>\n\nAlso, we need to give our network the countries as input, but, since it can only take numeric values, we'll encode them (we'll also keep a decoded version in case we need it).<br>\nWe'll a really simple encoding, numbering them from 0 to whatever the number of countries is.\n\nOur new preprocessed dataset will be in the format of:<br>\n```\n{<country_name> : [<mean_of_confirmed_cases>, <mean_of_death_cases>, <mean_of_recovered_cases>]}\n```"
    },
    {
      "metadata": {
        "trusted": true
      },
      "cell_type": "code",
      "source": "def preprocess_dataset(dataset, column_index):\n    \n    # SANITIZE THE DATA\n    for i in range(len(dataset[column_index])):\n        if dataset[column_index][i] == \"('St. Martin',)\":\n            dataset[column_index][i] = 'St. Martin'\n        if dataset[column_index][i] == \" Azerbaijan\":\n            dataset[column_index][i] = 'Azerbaijan'\n        if dataset[column_index][i] == \"Bahamas, The\":\n            dataset[column_index][i] = \"Bahamas\"\n        \n    # ENCODE/DECODE THE DATA \n    encoded_countries = {id : country for id, country in enumerate(set(sorted(dataset[column_index])))}\n    decoded_countries = {country : id for id, country in enumerate(set(sorted(dataset[column_index])))}\n    \n    # CREATE NEW DATASET\n    dataset = dataset.sort_values(by = column_index)\n    new_dataset = {c : None for c in sorted(set(dataset[column_index]))}\n    \n    # CONSTRUCT DATASET\n    confirmed = []\n    deaths = []\n    recovered = []\n    \n    # UPDATE DATASET SO THAT EACH COUNTRY HAS ITS CORRESPONDENT NUMBER OF CASES (MEAN)\n    cached_country = dataset[column_index][0]\n    for i, country in enumerate(dataset[column_index]):\n        if cached_country == country:\n            confirmed.append(dataset['Confirmed'][i])\n            deaths.append(dataset['Deaths'][i])\n            recovered.append(dataset['Recovered'][i])\n\n        else:\n            if i == len(dataset[column_index]):\n                cached_country = country\n      \n            new_dataset.update(\n                { \n                    cached_country : [\n                        np.nan_to_num(np.mean(confirmed)),\n                        np.nan_to_num(np.mean(deaths)),\n                        np.nan_to_num(np.mean(recovered))\n                    ]\n                }\n            )\n                        \n            confirmed = []\n            deaths = []\n            recovered = []\n            \n            cached_country = country\n            \n    # RETURN THE ENCODED AND DECODED COUNTRIES, AS WELL AS THE PREPROCESSED DATASET\n    return encoded_countries, decoded_countries, pd.DataFrame(data = new_dataset)",
      "execution_count": 68,
      "outputs": []
    },
    {
      "metadata": {},
      "cell_type": "markdown",
      "source": "Alright, now that the preprocessing method is done, let's put it to use and see how our data looks like."
    },
    {
      "metadata": {
        "trusted": true,
        "scrolled": true
      },
      "cell_type": "code",
      "source": "encoded_countries, decoded_countries, preprocessed_dataset = preprocess_dataset(dataset, 'Country/Region')",
      "execution_count": 69,
      "outputs": [
        {
          "output_type": "stream",
          "text": "/home/nbuser/anaconda3_501/lib/python3.6/site-packages/ipykernel/__main__.py:8: SettingWithCopyWarning: \nA value is trying to be set on a copy of a slice from a DataFrame\n\nSee the caveats in the documentation: http://pandas.pydata.org/pandas-docs/stable/indexing.html#indexing-view-versus-copy\n/home/nbuser/anaconda3_501/lib/python3.6/site-packages/ipykernel/__main__.py:6: SettingWithCopyWarning: \nA value is trying to be set on a copy of a slice from a DataFrame\n\nSee the caveats in the documentation: http://pandas.pydata.org/pandas-docs/stable/indexing.html#indexing-view-versus-copy\n/home/nbuser/anaconda3_501/lib/python3.6/site-packages/ipykernel/__main__.py:10: SettingWithCopyWarning: \nA value is trying to be set on a copy of a slice from a DataFrame\n\nSee the caveats in the documentation: http://pandas.pydata.org/pandas-docs/stable/indexing.html#indexing-view-versus-copy\n/home/nbuser/anaconda3_501/lib/python3.6/site-packages/numpy/core/fromnumeric.py:3118: RuntimeWarning: Mean of empty slice.\n  out=out, **kwargs)\n/home/nbuser/anaconda3_501/lib/python3.6/site-packages/numpy/core/_methods.py:85: RuntimeWarning: invalid value encountered in double_scalars\n  ret = ret.dtype.type(ret / rcount)\n",
          "name": "stderr"
        }
      ]
    },
    {
      "metadata": {
        "trusted": true,
        "scrolled": true
      },
      "cell_type": "code",
      "source": "encoded_countries",
      "execution_count": 70,
      "outputs": [
        {
          "output_type": "execute_result",
          "execution_count": 70,
          "data": {
            "text/plain": "{0: 'Fiji',\n 1: 'occupied Palestinian territory',\n 2: 'Slovakia',\n 3: 'Saint Barthelemy',\n 4: 'Ukraine',\n 5: 'Nigeria',\n 6: 'Iraq',\n 7: 'Malta',\n 8: 'Canada',\n 9: 'French Guiana',\n 10: 'Poland',\n 11: 'Brunei',\n 12: 'Liechtenstein',\n 13: 'Kyrgyzstan',\n 14: 'Latvia',\n 15: 'Rwanda',\n 16: 'Afghanistan',\n 17: 'Chile',\n 18: 'Laos',\n 19: 'Congo (Kinshasa)',\n 20: 'Thailand',\n 21: 'Iran',\n 22: 'Georgia',\n 23: 'Ivory Coast',\n 24: 'Senegal',\n 25: 'Kuwait',\n 26: 'Sudan',\n 27: 'Chad',\n 28: 'Guyana',\n 29: 'Burkina Faso',\n 30: 'Somalia',\n 31: 'Benin',\n 32: 'Iceland',\n 33: 'Bosnia and Herzegovina',\n 34: 'Reunion',\n 35: 'Burma',\n 36: 'Faroe Islands',\n 37: 'Zimbabwe',\n 38: 'Morocco',\n 39: 'Puerto Rico',\n 40: 'Cuba',\n 41: 'Cape Verde',\n 42: 'Hong Kong',\n 43: 'Diamond Princess',\n 44: 'Jordan',\n 45: 'Colombia',\n 46: 'Mozambique',\n 47: 'Slovenia',\n 48: 'Gabon',\n 49: 'Grenada',\n 50: 'Guinea',\n 51: 'Honduras',\n 52: 'Argentina',\n 53: 'Maldives',\n 54: 'Indonesia',\n 55: 'Bahamas',\n 56: 'Brazil',\n 57: 'United Arab Emirates',\n 58: 'Estonia',\n 59: 'Ethiopia',\n 60: 'Haiti',\n 61: 'Madagascar',\n 62: 'Vietnam',\n 63: 'Lesotho',\n 64: 'Venezuela',\n 65: 'Barbados',\n 66: 'Nepal',\n 67: 'Guatemala',\n 68: 'Macau',\n 69: 'Mali',\n 70: 'New Zealand',\n 71: 'Sao Tome and Principe',\n 72: 'San Marino',\n 73: 'Togo',\n 74: 'Vatican City',\n 75: 'Ghana',\n 76: 'South Korea',\n 77: 'Cabo Verde',\n 78: 'India',\n 79: 'Azerbaijan',\n 80: 'Malawi',\n 81: 'Norway',\n 82: 'Mayotte',\n 83: 'St. Martin',\n 84: 'Equatorial Guinea',\n 85: 'Costa Rica',\n 86: 'Aruba',\n 87: 'Algeria',\n 88: 'Ecuador',\n 89: 'Russia',\n 90: 'Uruguay',\n 91: 'Gambia, The',\n 92: 'Mongolia',\n 93: 'Suriname',\n 94: 'Cameroon',\n 95: 'Belize',\n 96: 'Niger',\n 97: 'Yemen',\n 98: 'Jamaica',\n 99: 'North Macedonia',\n 100: 'Malaysia',\n 101: 'Australia',\n 102: 'Bolivia',\n 103: 'The Gambia',\n 104: 'Armenia',\n 105: 'Bhutan',\n 106: 'Belarus',\n 107: 'Tajikistan',\n 108: 'Czech Republic',\n 109: 'Luxembourg',\n 110: 'Saint Lucia',\n 111: 'Saudi Arabia',\n 112: 'Saint Vincent and the Grenadines',\n 113: 'Andorra',\n 114: 'Switzerland',\n 115: 'Sierra Leone',\n 116: 'Paraguay',\n 117: 'Namibia',\n 118: 'Guernsey',\n 119: 'Guinea-Bissau',\n 120: 'North Ireland',\n 121: 'Monaco',\n 122: 'Romania',\n 123: 'Seychelles',\n 124: 'Central African Republic',\n 125: 'Denmark',\n 126: 'Singapore',\n 127: 'Greenland',\n 128: 'Kazakhstan',\n 129: 'West Bank and Gaza',\n 130: 'Cyprus',\n 131: 'El Salvador',\n 132: 'Cambodia',\n 133: 'Japan',\n 134: 'Albania',\n 135: 'Nicaragua',\n 136: 'Eritrea',\n 137: 'Turkey',\n 138: 'Saint Kitts and Nevis',\n 139: 'South Africa',\n 140: 'Greece',\n 141: 'Antigua and Barbuda',\n 142: 'Guadeloupe',\n 143: 'Eswatini',\n 144: 'Syria',\n 145: 'Taiwan',\n 146: 'Tunisia',\n 147: 'France',\n 148: 'Germany',\n 149: 'Djibouti',\n 150: 'Philippines',\n 151: 'Guam',\n 152: 'Martinique',\n 153: 'Bangladesh',\n 154: 'Peru',\n 155: 'Palestine',\n 156: 'Finland',\n 157: 'Jersey',\n 158: 'Liberia',\n 159: 'Dominica',\n 160: 'Uganda',\n 161: 'Belgium',\n 162: 'Montenegro',\n 163: 'Moldova',\n 164: 'Botswana',\n 165: 'Bulgaria',\n 166: 'Dominican Republic',\n 167: 'Spain',\n 168: 'MS Zaandam',\n 169: 'Panama',\n 170: 'The Bahamas',\n 171: 'Serbia',\n 172: 'Bahrain',\n 173: 'Republic of Ireland',\n 174: 'Congo (Brazzaville)',\n 175: 'Pakistan',\n 176: 'US',\n 177: 'Lithuania',\n 178: 'East Timor',\n 179: 'Croatia',\n 180: 'Sri Lanka',\n 181: 'Mauritania',\n 182: 'Egypt',\n 183: 'Channel Islands',\n 184: 'Holy See',\n 185: 'Curacao',\n 186: 'Portugal',\n 187: 'Oman',\n 188: 'Libya',\n 189: 'Trinidad and Tobago',\n 190: 'Gambia',\n 191: 'Sweden',\n 192: 'UK',\n 193: 'Hungary',\n 194: 'Western Sahara',\n 195: 'Netherlands',\n 196: 'Burundi',\n 197: 'Lebanon',\n 198: 'Republic of the Congo',\n 199: 'Mexico',\n 200: 'Timor-Leste',\n 201: 'Angola',\n 202: 'Qatar',\n 203: 'Kosovo',\n 204: 'Austria',\n 205: 'Papua New Guinea',\n 206: 'Others',\n 207: 'Uzbekistan',\n 208: 'Israel',\n 209: 'Italy',\n 210: 'Mauritius',\n 211: 'Tanzania',\n 212: 'Zambia',\n 213: 'Cayman Islands',\n 214: 'Gibraltar',\n 215: 'South Sudan',\n 216: 'Kenya',\n 217: 'Mainland China',\n 218: 'Ireland',\n 219: 'Comoros'}"
          },
          "metadata": {}
        }
      ]
    },
    {
      "metadata": {
        "trusted": true
      },
      "cell_type": "code",
      "source": "decoded_countries",
      "execution_count": 71,
      "outputs": [
        {
          "output_type": "execute_result",
          "execution_count": 71,
          "data": {
            "text/plain": "{'Fiji': 0,\n 'occupied Palestinian territory': 1,\n 'Slovakia': 2,\n 'Saint Barthelemy': 3,\n 'Ukraine': 4,\n 'Nigeria': 5,\n 'Iraq': 6,\n 'Malta': 7,\n 'Canada': 8,\n 'French Guiana': 9,\n 'Poland': 10,\n 'Brunei': 11,\n 'Liechtenstein': 12,\n 'Kyrgyzstan': 13,\n 'Latvia': 14,\n 'Rwanda': 15,\n 'Afghanistan': 16,\n 'Chile': 17,\n 'Laos': 18,\n 'Congo (Kinshasa)': 19,\n 'Thailand': 20,\n 'Iran': 21,\n 'Georgia': 22,\n 'Ivory Coast': 23,\n 'Senegal': 24,\n 'Kuwait': 25,\n 'Sudan': 26,\n 'Chad': 27,\n 'Guyana': 28,\n 'Burkina Faso': 29,\n 'Somalia': 30,\n 'Benin': 31,\n 'Iceland': 32,\n 'Bosnia and Herzegovina': 33,\n 'Reunion': 34,\n 'Burma': 35,\n 'Faroe Islands': 36,\n 'Zimbabwe': 37,\n 'Morocco': 38,\n 'Puerto Rico': 39,\n 'Cuba': 40,\n 'Cape Verde': 41,\n 'Hong Kong': 42,\n 'Diamond Princess': 43,\n 'Jordan': 44,\n 'Colombia': 45,\n 'Mozambique': 46,\n 'Slovenia': 47,\n 'Gabon': 48,\n 'Grenada': 49,\n 'Guinea': 50,\n 'Honduras': 51,\n 'Argentina': 52,\n 'Maldives': 53,\n 'Indonesia': 54,\n 'Bahamas': 55,\n 'Brazil': 56,\n 'United Arab Emirates': 57,\n 'Estonia': 58,\n 'Ethiopia': 59,\n 'Haiti': 60,\n 'Madagascar': 61,\n 'Vietnam': 62,\n 'Lesotho': 63,\n 'Venezuela': 64,\n 'Barbados': 65,\n 'Nepal': 66,\n 'Guatemala': 67,\n 'Macau': 68,\n 'Mali': 69,\n 'New Zealand': 70,\n 'Sao Tome and Principe': 71,\n 'San Marino': 72,\n 'Togo': 73,\n 'Vatican City': 74,\n 'Ghana': 75,\n 'South Korea': 76,\n 'Cabo Verde': 77,\n 'India': 78,\n 'Azerbaijan': 79,\n 'Malawi': 80,\n 'Norway': 81,\n 'Mayotte': 82,\n 'St. Martin': 83,\n 'Equatorial Guinea': 84,\n 'Costa Rica': 85,\n 'Aruba': 86,\n 'Algeria': 87,\n 'Ecuador': 88,\n 'Russia': 89,\n 'Uruguay': 90,\n 'Gambia, The': 91,\n 'Mongolia': 92,\n 'Suriname': 93,\n 'Cameroon': 94,\n 'Belize': 95,\n 'Niger': 96,\n 'Yemen': 97,\n 'Jamaica': 98,\n 'North Macedonia': 99,\n 'Malaysia': 100,\n 'Australia': 101,\n 'Bolivia': 102,\n 'The Gambia': 103,\n 'Armenia': 104,\n 'Bhutan': 105,\n 'Belarus': 106,\n 'Tajikistan': 107,\n 'Czech Republic': 108,\n 'Luxembourg': 109,\n 'Saint Lucia': 110,\n 'Saudi Arabia': 111,\n 'Saint Vincent and the Grenadines': 112,\n 'Andorra': 113,\n 'Switzerland': 114,\n 'Sierra Leone': 115,\n 'Paraguay': 116,\n 'Namibia': 117,\n 'Guernsey': 118,\n 'Guinea-Bissau': 119,\n 'North Ireland': 120,\n 'Monaco': 121,\n 'Romania': 122,\n 'Seychelles': 123,\n 'Central African Republic': 124,\n 'Denmark': 125,\n 'Singapore': 126,\n 'Greenland': 127,\n 'Kazakhstan': 128,\n 'West Bank and Gaza': 129,\n 'Cyprus': 130,\n 'El Salvador': 131,\n 'Cambodia': 132,\n 'Japan': 133,\n 'Albania': 134,\n 'Nicaragua': 135,\n 'Eritrea': 136,\n 'Turkey': 137,\n 'Saint Kitts and Nevis': 138,\n 'South Africa': 139,\n 'Greece': 140,\n 'Antigua and Barbuda': 141,\n 'Guadeloupe': 142,\n 'Eswatini': 143,\n 'Syria': 144,\n 'Taiwan': 145,\n 'Tunisia': 146,\n 'France': 147,\n 'Germany': 148,\n 'Djibouti': 149,\n 'Philippines': 150,\n 'Guam': 151,\n 'Martinique': 152,\n 'Bangladesh': 153,\n 'Peru': 154,\n 'Palestine': 155,\n 'Finland': 156,\n 'Jersey': 157,\n 'Liberia': 158,\n 'Dominica': 159,\n 'Uganda': 160,\n 'Belgium': 161,\n 'Montenegro': 162,\n 'Moldova': 163,\n 'Botswana': 164,\n 'Bulgaria': 165,\n 'Dominican Republic': 166,\n 'Spain': 167,\n 'MS Zaandam': 168,\n 'Panama': 169,\n 'The Bahamas': 170,\n 'Serbia': 171,\n 'Bahrain': 172,\n 'Republic of Ireland': 173,\n 'Congo (Brazzaville)': 174,\n 'Pakistan': 175,\n 'US': 176,\n 'Lithuania': 177,\n 'East Timor': 178,\n 'Croatia': 179,\n 'Sri Lanka': 180,\n 'Mauritania': 181,\n 'Egypt': 182,\n 'Channel Islands': 183,\n 'Holy See': 184,\n 'Curacao': 185,\n 'Portugal': 186,\n 'Oman': 187,\n 'Libya': 188,\n 'Trinidad and Tobago': 189,\n 'Gambia': 190,\n 'Sweden': 191,\n 'UK': 192,\n 'Hungary': 193,\n 'Western Sahara': 194,\n 'Netherlands': 195,\n 'Burundi': 196,\n 'Lebanon': 197,\n 'Republic of the Congo': 198,\n 'Mexico': 199,\n 'Timor-Leste': 200,\n 'Angola': 201,\n 'Qatar': 202,\n 'Kosovo': 203,\n 'Austria': 204,\n 'Papua New Guinea': 205,\n 'Others': 206,\n 'Uzbekistan': 207,\n 'Israel': 208,\n 'Italy': 209,\n 'Mauritius': 210,\n 'Tanzania': 211,\n 'Zambia': 212,\n 'Cayman Islands': 213,\n 'Gibraltar': 214,\n 'South Sudan': 215,\n 'Kenya': 216,\n 'Mainland China': 217,\n 'Ireland': 218,\n 'Comoros': 219}"
          },
          "metadata": {}
        }
      ]
    },
    {
      "metadata": {
        "trusted": true,
        "scrolled": true
      },
      "cell_type": "code",
      "source": "preprocessed_dataset",
      "execution_count": 72,
      "outputs": [
        {
          "output_type": "execute_result",
          "execution_count": 72,
          "data": {
            "text/html": "<div>\n<style scoped>\n    .dataframe tbody tr th:only-of-type {\n        vertical-align: middle;\n    }\n\n    .dataframe tbody tr th {\n        vertical-align: top;\n    }\n\n    .dataframe thead th {\n        text-align: right;\n    }\n</style>\n<table border=\"1\" class=\"dataframe\">\n  <thead>\n    <tr style=\"text-align: right;\">\n      <th></th>\n      <th>Afghanistan</th>\n      <th>Albania</th>\n      <th>Algeria</th>\n      <th>Andorra</th>\n      <th>Angola</th>\n      <th>Antigua and Barbuda</th>\n      <th>Argentina</th>\n      <th>Armenia</th>\n      <th>Aruba</th>\n      <th>Australia</th>\n      <th>...</th>\n      <th>Uzbekistan</th>\n      <th>Vatican City</th>\n      <th>Venezuela</th>\n      <th>Vietnam</th>\n      <th>West Bank and Gaza</th>\n      <th>Western Sahara</th>\n      <th>Yemen</th>\n      <th>Zambia</th>\n      <th>Zimbabwe</th>\n      <th>occupied Palestinian territory</th>\n    </tr>\n  </thead>\n  <tbody>\n    <tr>\n      <th>0</th>\n      <td>23.959184</td>\n      <td>76.977444</td>\n      <td>101.335616</td>\n      <td>263.071429</td>\n      <td>176.803279</td>\n      <td>399.348837</td>\n      <td>469.100719</td>\n      <td>547.978723</td>\n      <td>1.500000</td>\n      <td>914.296181</td>\n      <td>...</td>\n      <td>24720.196850</td>\n      <td>22001.000000</td>\n      <td>16541.023438</td>\n      <td>21752.648045</td>\n      <td>16829.568966</td>\n      <td>17300.056604</td>\n      <td>23794.554455</td>\n      <td>23084.225806</td>\n      <td>13595.090164</td>\n      <td>None</td>\n    </tr>\n    <tr>\n      <th>1</th>\n      <td>0.700680</td>\n      <td>2.000000</td>\n      <td>2.102740</td>\n      <td>5.907143</td>\n      <td>3.549180</td>\n      <td>8.186047</td>\n      <td>9.733813</td>\n      <td>12.141844</td>\n      <td>0.000000</td>\n      <td>25.758379</td>\n      <td>...</td>\n      <td>1255.503937</td>\n      <td>432.666667</td>\n      <td>528.976562</td>\n      <td>728.480447</td>\n      <td>640.862069</td>\n      <td>908.679245</td>\n      <td>1069.336634</td>\n      <td>1232.274194</td>\n      <td>374.721311</td>\n      <td>None</td>\n    </tr>\n    <tr>\n      <th>2</th>\n      <td>0.904762</td>\n      <td>1.609023</td>\n      <td>1.883562</td>\n      <td>6.557143</td>\n      <td>5.549180</td>\n      <td>15.317829</td>\n      <td>25.165468</td>\n      <td>41.531915</td>\n      <td>0.333333</td>\n      <td>199.713172</td>\n      <td>...</td>\n      <td>20024.338583</td>\n      <td>11782.333333</td>\n      <td>8965.796875</td>\n      <td>13695.737430</td>\n      <td>7597.939655</td>\n      <td>4925.886792</td>\n      <td>11138.405941</td>\n      <td>19677.725806</td>\n      <td>6826.155738</td>\n      <td>None</td>\n    </tr>\n  </tbody>\n</table>\n<p>3 rows × 220 columns</p>\n</div>",
            "text/plain": "   Afghanistan    Albania     Algeria     Andorra      Angola  \\\n0    23.959184  76.977444  101.335616  263.071429  176.803279   \n1     0.700680   2.000000    2.102740    5.907143    3.549180   \n2     0.904762   1.609023    1.883562    6.557143    5.549180   \n\n   Antigua and Barbuda   Argentina     Armenia     Aruba   Australia  \\\n0           399.348837  469.100719  547.978723  1.500000  914.296181   \n1             8.186047    9.733813   12.141844  0.000000   25.758379   \n2            15.317829   25.165468   41.531915  0.333333  199.713172   \n\n                ...                  Uzbekistan  Vatican City     Venezuela  \\\n0               ...                24720.196850  22001.000000  16541.023438   \n1               ...                 1255.503937    432.666667    528.976562   \n2               ...                20024.338583  11782.333333   8965.796875   \n\n        Vietnam  West Bank and Gaza  Western Sahara         Yemen  \\\n0  21752.648045        16829.568966    17300.056604  23794.554455   \n1    728.480447          640.862069      908.679245   1069.336634   \n2  13695.737430         7597.939655     4925.886792  11138.405941   \n\n         Zambia      Zimbabwe  occupied Palestinian territory  \n0  23084.225806  13595.090164                            None  \n1   1232.274194    374.721311                            None  \n2  19677.725806   6826.155738                            None  \n\n[3 rows x 220 columns]"
          },
          "metadata": {}
        }
      ]
    },
    {
      "metadata": {},
      "cell_type": "markdown",
      "source": "## Normalizing the data & Creating features and labels\n\nBefore we pass this data to the model, we absolutely need to normalize it. Other wise, the model will get confused because of the variance of the values.<br>\nFor the purpose of this task, the way we will normalize this model is by dividing the existing values of a certain case to the general mean of that case.<br>\nTake for example the mean of confirmed cases in Afghanistan, like above (you might want to run that code if you want to see what we mean). The way we normalize it is by dividing that (<b>23.959184</b>) with the general confirmed cases mean (<b>10472.017883</b>)\n\nThose cases will serve as our <b>labels</b> for this task, as the cases represent the result we want to see.\nThe IDs of the countries (the encoded_countries dictionary we created) will serve as <b>features</b> since this is how we will identify those cases by."
    },
    {
      "metadata": {
        "trusted": true
      },
      "cell_type": "code",
      "source": "# NORMALIZATION METHOD\ndef normalize(x, index):\n    return x / dataset.describe()[index]['mean']\n\n# FEATURE AND LABEL EXTRACTION METHOD\ndef create_features_labels(preprocessed_dataset):\n    features = np.array(list(encoded_countries.keys()))\n    \n    confirmed = np.nan_to_num(np.array(preprocessed_dataset, \"float\")[0])\n    confirmed = np.nan_to_num(normalize(confirmed, \"Confirmed\"))\n    \n    deaths = np.nan_to_num(np.array(preprocessed_dataset, \"float\")[1])\n    deaths = np.nan_to_num(normalize(deaths, \"Deaths\"))\n    \n    recovered = np.nan_to_num(np.array(preprocessed_dataset, \"float\")[2])\n    recovered = np.nan_to_num(normalize(recovered, \"Recovered\"))\n \n    labels = []\n    \n    for c, d, r in zip(confirmed, deaths, recovered):\n        labels.append([c, d, r])\n        \n    labels = np.array(labels)\n        \n    return features, labels\n\nx, y = create_features_labels(preprocessed_dataset)",
      "execution_count": 73,
      "outputs": []
    },
    {
      "metadata": {},
      "cell_type": "markdown",
      "source": "# Creating a linear regression model"
    },
    {
      "metadata": {},
      "cell_type": "markdown",
      "source": "## Building the model\n\nIn order to create such model, we need to take account of 4 things (there can be more, but we can focus on 4 for now):\n1. Structure:<br>\n    The way we will structure this model is the following (the order matters):\n    - 1 <b>input layer</b>\n    - 1 <b>dropout layer</b>\n    - 1 <b>batch normalization layer</b>\n    - 1 <b>hidden layer</b>\n    - 1 <b>dropout layer</b>\n    - 1 <b>hidden layer</b>\n    - 1 <b>output layer</b>\n    \n2. Hyperparameters:<br>\n    Whenever you choose how many neurons a layer should have, what the input shape should be and what not, you are choosing and tweaking <b>hyperparameters</b>\n    Those can be viewed as the knob on an oven. Whenever you want to preheat the over you go from 0 degrees to 200 degrees. When you see that your food is burning, you turn it down to 150 degrees. The same happens in a neural network. When things don't work with some hyperparameters, choose some other ones, until a good synergy is constructed.\n    You can see the used hyperparameters in the code below.\n    \n3. Activation functions:<br>\n    Since this is a linear regression, we don't want our weights and biases to oscillate like crazy, we want them to change in a linear fashion. Therefore, we'll be using the ReLU (Rectified Linear Unit) activation function for this. Also, for our output, we will use a linear activation function since this is a linear regression.\n    \n4. Losses, Optimizers and Metrics:<br>\n    For the loss, it's straight forward - we work with linear regression - we use mean squared error or any other loss function that determines the states of values from a <b>statistics</b> perspective.<br>\n    For the optimizer, during training and experimenting, we found that the Adam optimizer with a learning rate 0.001 works okay, so we stuck with that.\n    Metric-wise, we track the same element as the loss: mean squared error. The lower the MSE is, the more accurate we are.\n        "
    },
    {
      "metadata": {
        "trusted": true
      },
      "cell_type": "code",
      "source": "def build_model():\n    model = Sequential()\n    \n    input_layer = Dense(\n        128,\n        input_dim = 1,\n        activation = 'relu',\n    )\n    \n    dropout1 = Dropout(0.1)\n    batch_norm_layer = BatchNormalization(\n        momentum = 0.99,\n        trainable = True,\n    )\n        \n    hl1 = Dense(\n        128,\n        activation = 'relu',\n    )\n    \n    dropout2 = Dropout(0.2)\n    \n    hl2 = Dense(\n        32,\n        activation = 'relu'\n    )\n    \n    output_layer = Dense(\n        3,\n        activation = 'linear'\n    )\n    \n    model.add(input_layer)\n    model.add(dropout1)\n    model.add(batch_norm_layer)\n    model.add(hl1)\n    model.add(dropout2)\n    model.add(hl2)\n    model.add(output_layer)\n    \n    model.compile(\n        loss = 'mse',\n        optimizer = Adam(\n            learning_rate=0.001\n        ),\n        metrics = ['mse']\n    )\n    \n    return model",
      "execution_count": 74,
      "outputs": []
    },
    {
      "metadata": {
        "trusted": true
      },
      "cell_type": "code",
      "source": "model = build_model()\nmodel.summary()",
      "execution_count": 75,
      "outputs": [
        {
          "output_type": "stream",
          "text": "Model: \"sequential_2\"\n_________________________________________________________________\nLayer (type)                 Output Shape              Param #   \n=================================================================\ndense_5 (Dense)              (None, 128)               256       \n_________________________________________________________________\ndropout_3 (Dropout)          (None, 128)               0         \n_________________________________________________________________\nbatch_normalization_2 (Batch (None, 128)               512       \n_________________________________________________________________\ndense_6 (Dense)              (None, 128)               16512     \n_________________________________________________________________\ndropout_4 (Dropout)          (None, 128)               0         \n_________________________________________________________________\ndense_7 (Dense)              (None, 32)                4128      \n_________________________________________________________________\ndense_8 (Dense)              (None, 3)                 99        \n=================================================================\nTotal params: 21,507\nTrainable params: 21,251\nNon-trainable params: 256\n_________________________________________________________________\n",
          "name": "stdout"
        }
      ]
    },
    {
      "metadata": {},
      "cell_type": "markdown",
      "source": "## Training the model\n\nFor training the model, we'll make it run for 100 times throughout the same data, we will give the data in batches of 8 (8 pieces of data at once) and we'll split this data so that it trains on 90% of the data and evaluates it's decisions on 10% of the data. Also, we'll add a checkpoint callback function so that we can store the model. We don't have to use it, as it trains quite quickly, but it's good practice"
    },
    {
      "metadata": {
        "trusted": true
      },
      "cell_type": "code",
      "source": "EPOCHS = 100",
      "execution_count": 76,
      "outputs": []
    },
    {
      "metadata": {
        "trusted": true
      },
      "cell_type": "code",
      "source": "checkpoint_filepath = './checkpoint/regression_model.h5'\nmodel_checkpoint_callback = ModelCheckpoint(\n    filepath=checkpoint_filepath,\n    save_weights_only=True,\n    monitor='val_mse',\n)",
      "execution_count": 77,
      "outputs": []
    },
    {
      "metadata": {
        "trusted": true,
        "scrolled": true
      },
      "cell_type": "code",
      "source": "model.fit(\n    x = x,\n    y = y,\n    batch_size = 8,\n    validation_split = 0.1,\n    epochs = EPOCHS,\n    callbacks = [model_checkpoint_callback]\n)",
      "execution_count": 78,
      "outputs": [
        {
          "output_type": "stream",
          "text": "Train on 198 samples, validate on 22 samples\nEpoch 1/100\n198/198 [==============================] - 10s 53ms/step - loss: 1.2812 - mse: 1.2812 - val_loss: 9.9101 - val_mse: 9.9101\nEpoch 2/100\n198/198 [==============================] - 0s 2ms/step - loss: 1.0890 - mse: 1.0890 - val_loss: 2.3397 - val_mse: 2.3397\nEpoch 3/100\n198/198 [==============================] - 0s 2ms/step - loss: 1.0090 - mse: 1.0090 - val_loss: 1.5040 - val_mse: 1.5040\nEpoch 4/100\n198/198 [==============================] - 0s 2ms/step - loss: 1.0155 - mse: 1.0155 - val_loss: 0.6065 - val_mse: 0.6065\nEpoch 5/100\n198/198 [==============================] - 0s 2ms/step - loss: 1.0091 - mse: 1.0091 - val_loss: 1.0334 - val_mse: 1.0334\nEpoch 6/100\n198/198 [==============================] - 0s 2ms/step - loss: 0.9871 - mse: 0.9871 - val_loss: 0.6863 - val_mse: 0.6863\nEpoch 7/100\n198/198 [==============================] - 0s 2ms/step - loss: 1.0392 - mse: 1.0392 - val_loss: 0.6042 - val_mse: 0.6042\nEpoch 8/100\n198/198 [==============================] - 0s 2ms/step - loss: 1.0236 - mse: 1.0236 - val_loss: 0.9780 - val_mse: 0.9780\nEpoch 9/100\n198/198 [==============================] - 0s 2ms/step - loss: 0.9394 - mse: 0.9394 - val_loss: 0.6432 - val_mse: 0.6432\nEpoch 10/100\n198/198 [==============================] - 0s 2ms/step - loss: 1.0426 - mse: 1.0426 - val_loss: 0.7009 - val_mse: 0.7009\nEpoch 11/100\n198/198 [==============================] - 0s 2ms/step - loss: 1.0027 - mse: 1.0027 - val_loss: 0.6159 - val_mse: 0.6159\nEpoch 12/100\n198/198 [==============================] - 0s 2ms/step - loss: 0.9837 - mse: 0.9837 - val_loss: 0.5890 - val_mse: 0.5890\nEpoch 13/100\n198/198 [==============================] - 0s 2ms/step - loss: 0.9245 - mse: 0.9245 - val_loss: 0.7107 - val_mse: 0.7107\nEpoch 14/100\n198/198 [==============================] - 0s 2ms/step - loss: 0.9592 - mse: 0.9592 - val_loss: 0.6651 - val_mse: 0.6651\nEpoch 15/100\n198/198 [==============================] - 0s 2ms/step - loss: 0.9524 - mse: 0.9524 - val_loss: 0.7119 - val_mse: 0.7119\nEpoch 16/100\n198/198 [==============================] - 0s 2ms/step - loss: 0.9517 - mse: 0.9516 - val_loss: 0.5859 - val_mse: 0.5859\nEpoch 17/100\n198/198 [==============================] - 0s 2ms/step - loss: 0.9710 - mse: 0.9710 - val_loss: 1.0501 - val_mse: 1.0501\nEpoch 18/100\n198/198 [==============================] - 0s 2ms/step - loss: 0.9682 - mse: 0.9682 - val_loss: 0.6752 - val_mse: 0.6752\nEpoch 19/100\n198/198 [==============================] - 1s 3ms/step - loss: 0.9675 - mse: 0.9675 - val_loss: 0.6155 - val_mse: 0.6155\nEpoch 20/100\n198/198 [==============================] - 0s 2ms/step - loss: 0.9497 - mse: 0.9497 - val_loss: 0.5986 - val_mse: 0.5986\nEpoch 21/100\n198/198 [==============================] - 0s 2ms/step - loss: 0.9073 - mse: 0.9073 - val_loss: 0.6008 - val_mse: 0.6008\nEpoch 22/100\n198/198 [==============================] - 0s 2ms/step - loss: 0.9817 - mse: 0.9817 - val_loss: 0.7334 - val_mse: 0.7334\nEpoch 23/100\n198/198 [==============================] - 0s 3ms/step - loss: 0.9547 - mse: 0.9547 - val_loss: 0.7847 - val_mse: 0.7847\nEpoch 24/100\n198/198 [==============================] - 0s 2ms/step - loss: 0.9499 - mse: 0.9499 - val_loss: 0.7976 - val_mse: 0.7976\nEpoch 25/100\n198/198 [==============================] - 0s 2ms/step - loss: 0.9552 - mse: 0.9552 - val_loss: 0.5527 - val_mse: 0.5527\nEpoch 26/100\n198/198 [==============================] - 1s 3ms/step - loss: 0.9723 - mse: 0.9723 - val_loss: 0.6302 - val_mse: 0.6302\nEpoch 27/100\n198/198 [==============================] - 0s 2ms/step - loss: 0.9454 - mse: 0.9454 - val_loss: 0.5454 - val_mse: 0.5454\nEpoch 28/100\n198/198 [==============================] - 0s 2ms/step - loss: 0.9587 - mse: 0.9587 - val_loss: 0.8311 - val_mse: 0.8311\nEpoch 29/100\n198/198 [==============================] - 0s 2ms/step - loss: 0.9274 - mse: 0.9274 - val_loss: 0.6325 - val_mse: 0.6325\nEpoch 30/100\n198/198 [==============================] - 0s 2ms/step - loss: 0.9401 - mse: 0.9401 - val_loss: 0.7734 - val_mse: 0.7734\nEpoch 31/100\n198/198 [==============================] - 1s 4ms/step - loss: 0.8701 - mse: 0.8701 - val_loss: 0.6310 - val_mse: 0.6310\nEpoch 32/100\n198/198 [==============================] - 0s 2ms/step - loss: 0.9025 - mse: 0.9025 - val_loss: 0.6693 - val_mse: 0.6693\nEpoch 33/100\n198/198 [==============================] - 0s 2ms/step - loss: 0.9216 - mse: 0.9216 - val_loss: 0.7995 - val_mse: 0.7995\nEpoch 34/100\n198/198 [==============================] - 0s 2ms/step - loss: 0.9212 - mse: 0.9212 - val_loss: 0.6050 - val_mse: 0.6050\nEpoch 35/100\n198/198 [==============================] - 1s 3ms/step - loss: 0.8759 - mse: 0.8759 - val_loss: 0.6889 - val_mse: 0.6889\nEpoch 36/100\n198/198 [==============================] - 0s 2ms/step - loss: 0.8815 - mse: 0.8815 - val_loss: 0.7204 - val_mse: 0.7204\nEpoch 37/100\n198/198 [==============================] - 0s 2ms/step - loss: 0.9402 - mse: 0.9402 - val_loss: 0.7598 - val_mse: 0.7598\nEpoch 38/100\n198/198 [==============================] - 0s 3ms/step - loss: 0.9304 - mse: 0.9304 - val_loss: 0.6806 - val_mse: 0.6806\nEpoch 39/100\n198/198 [==============================] - 0s 2ms/step - loss: 0.9292 - mse: 0.9292 - val_loss: 0.6058 - val_mse: 0.6058\nEpoch 40/100\n198/198 [==============================] - 0s 2ms/step - loss: 0.9358 - mse: 0.9358 - val_loss: 0.6828 - val_mse: 0.6828\nEpoch 41/100\n198/198 [==============================] - 0s 2ms/step - loss: 0.9523 - mse: 0.9523 - val_loss: 0.5881 - val_mse: 0.5881\nEpoch 42/100\n198/198 [==============================] - 0s 2ms/step - loss: 0.9406 - mse: 0.9406 - val_loss: 0.7226 - val_mse: 0.7226\nEpoch 43/100\n198/198 [==============================] - 0s 2ms/step - loss: 0.9394 - mse: 0.9394 - val_loss: 0.5879 - val_mse: 0.5879\nEpoch 44/100\n198/198 [==============================] - 0s 2ms/step - loss: 0.9343 - mse: 0.9343 - val_loss: 0.5554 - val_mse: 0.5554\nEpoch 45/100\n198/198 [==============================] - 0s 2ms/step - loss: 0.9711 - mse: 0.9711 - val_loss: 0.6946 - val_mse: 0.6946\nEpoch 46/100\n198/198 [==============================] - 0s 2ms/step - loss: 0.9219 - mse: 0.9219 - val_loss: 0.6380 - val_mse: 0.6380\nEpoch 47/100\n198/198 [==============================] - 0s 2ms/step - loss: 0.9235 - mse: 0.9235 - val_loss: 0.6378 - val_mse: 0.6378\nEpoch 48/100\n198/198 [==============================] - 0s 2ms/step - loss: 0.9479 - mse: 0.9479 - val_loss: 0.6210 - val_mse: 0.6210\nEpoch 49/100\n198/198 [==============================] - 0s 2ms/step - loss: 0.9429 - mse: 0.9429 - val_loss: 0.5748 - val_mse: 0.5748\nEpoch 50/100\n198/198 [==============================] - 0s 2ms/step - loss: 0.9513 - mse: 0.9513 - val_loss: 0.5736 - val_mse: 0.5736\nEpoch 51/100\n198/198 [==============================] - 0s 2ms/step - loss: 0.9256 - mse: 0.9256 - val_loss: 0.5594 - val_mse: 0.5594\nEpoch 52/100\n198/198 [==============================] - 0s 2ms/step - loss: 0.9374 - mse: 0.9374 - val_loss: 0.6546 - val_mse: 0.6546\nEpoch 53/100\n198/198 [==============================] - 1s 3ms/step - loss: 0.8970 - mse: 0.8970 - val_loss: 0.6469 - val_mse: 0.6469\nEpoch 54/100\n198/198 [==============================] - 0s 2ms/step - loss: 0.9226 - mse: 0.9226 - val_loss: 0.6481 - val_mse: 0.6481\nEpoch 55/100\n198/198 [==============================] - 0s 2ms/step - loss: 0.9034 - mse: 0.9034 - val_loss: 0.7910 - val_mse: 0.7910\nEpoch 56/100\n198/198 [==============================] - 0s 2ms/step - loss: 0.9108 - mse: 0.9108 - val_loss: 0.5996 - val_mse: 0.5996\nEpoch 57/100\n198/198 [==============================] - 0s 3ms/step - loss: 0.9585 - mse: 0.9585 - val_loss: 0.8449 - val_mse: 0.8449\nEpoch 58/100\n198/198 [==============================] - 0s 2ms/step - loss: 0.9271 - mse: 0.9271 - val_loss: 0.6461 - val_mse: 0.6461\nEpoch 59/100\n198/198 [==============================] - 1s 3ms/step - loss: 0.8942 - mse: 0.8942 - val_loss: 0.6580 - val_mse: 0.6580\nEpoch 60/100\n198/198 [==============================] - 0s 2ms/step - loss: 0.9340 - mse: 0.9340 - val_loss: 0.5500 - val_mse: 0.5500\nEpoch 61/100\n198/198 [==============================] - 0s 2ms/step - loss: 0.9214 - mse: 0.9214 - val_loss: 0.7258 - val_mse: 0.7258\n",
          "name": "stdout"
        },
        {
          "output_type": "stream",
          "text": "Epoch 62/100\n198/198 [==============================] - ETA: 0s - loss: 0.9622 - mse: 0.962 - 1s 3ms/step - loss: 0.9146 - mse: 0.9146 - val_loss: 0.5926 - val_mse: 0.5926\nEpoch 63/100\n198/198 [==============================] - 0s 2ms/step - loss: 0.9075 - mse: 0.9075 - val_loss: 0.7124 - val_mse: 0.7124\nEpoch 64/100\n198/198 [==============================] - 0s 2ms/step - loss: 0.9120 - mse: 0.9120 - val_loss: 0.6974 - val_mse: 0.6974\nEpoch 65/100\n198/198 [==============================] - 0s 2ms/step - loss: 0.8910 - mse: 0.8910 - val_loss: 0.6475 - val_mse: 0.6475\nEpoch 66/100\n198/198 [==============================] - 0s 2ms/step - loss: 0.9046 - mse: 0.9046 - val_loss: 0.6098 - val_mse: 0.6098\nEpoch 67/100\n198/198 [==============================] - 0s 2ms/step - loss: 0.9056 - mse: 0.9056 - val_loss: 0.7111 - val_mse: 0.7111\nEpoch 68/100\n198/198 [==============================] - 0s 2ms/step - loss: 0.9248 - mse: 0.9248 - val_loss: 0.5680 - val_mse: 0.5680\nEpoch 69/100\n198/198 [==============================] - 0s 2ms/step - loss: 0.9205 - mse: 0.9205 - val_loss: 0.6361 - val_mse: 0.6361\nEpoch 70/100\n198/198 [==============================] - 0s 2ms/step - loss: 0.9307 - mse: 0.9307 - val_loss: 0.6910 - val_mse: 0.6910\nEpoch 71/100\n198/198 [==============================] - 1s 3ms/step - loss: 0.8937 - mse: 0.8937 - val_loss: 0.6467 - val_mse: 0.6467\nEpoch 72/100\n198/198 [==============================] - 0s 2ms/step - loss: 0.9126 - mse: 0.9126 - val_loss: 0.6796 - val_mse: 0.6796\nEpoch 73/100\n198/198 [==============================] - 1s 3ms/step - loss: 0.9176 - mse: 0.9176 - val_loss: 0.6105 - val_mse: 0.6105\nEpoch 74/100\n198/198 [==============================] - 0s 2ms/step - loss: 0.9244 - mse: 0.9244 - val_loss: 0.7721 - val_mse: 0.7721\nEpoch 75/100\n198/198 [==============================] - 0s 2ms/step - loss: 0.9643 - mse: 0.9643 - val_loss: 0.6983 - val_mse: 0.6983\nEpoch 76/100\n198/198 [==============================] - 0s 2ms/step - loss: 0.8858 - mse: 0.8858 - val_loss: 0.6659 - val_mse: 0.6659\nEpoch 77/100\n198/198 [==============================] - 0s 2ms/step - loss: 0.8905 - mse: 0.8905 - val_loss: 0.6329 - val_mse: 0.6329\nEpoch 78/100\n198/198 [==============================] - 0s 2ms/step - loss: 0.9224 - mse: 0.9224 - val_loss: 0.7266 - val_mse: 0.7266\nEpoch 79/100\n198/198 [==============================] - 0s 2ms/step - loss: 0.9205 - mse: 0.9205 - val_loss: 0.6511 - val_mse: 0.6511\nEpoch 80/100\n198/198 [==============================] - 0s 2ms/step - loss: 0.9408 - mse: 0.9408 - val_loss: 0.6827 - val_mse: 0.6827\nEpoch 81/100\n198/198 [==============================] - 0s 3ms/step - loss: 0.8651 - mse: 0.8651 - val_loss: 0.7577 - val_mse: 0.7577\nEpoch 82/100\n198/198 [==============================] - 0s 2ms/step - loss: 0.8999 - mse: 0.8999 - val_loss: 0.8116 - val_mse: 0.8116\nEpoch 83/100\n198/198 [==============================] - 0s 2ms/step - loss: 0.8880 - mse: 0.8880 - val_loss: 0.8253 - val_mse: 0.8253\nEpoch 84/100\n198/198 [==============================] - 0s 2ms/step - loss: 0.9676 - mse: 0.9676 - val_loss: 0.8096 - val_mse: 0.8096\nEpoch 85/100\n198/198 [==============================] - 1s 3ms/step - loss: 0.9159 - mse: 0.9159 - val_loss: 0.5786 - val_mse: 0.5786\nEpoch 86/100\n198/198 [==============================] - 0s 2ms/step - loss: 0.9101 - mse: 0.9101 - val_loss: 0.5995 - val_mse: 0.5995\nEpoch 87/100\n198/198 [==============================] - 0s 2ms/step - loss: 0.8961 - mse: 0.8961 - val_loss: 0.7047 - val_mse: 0.7047\nEpoch 88/100\n198/198 [==============================] - 0s 2ms/step - loss: 0.8816 - mse: 0.8816 - val_loss: 0.6984 - val_mse: 0.6984\nEpoch 89/100\n198/198 [==============================] - 0s 2ms/step - loss: 0.9281 - mse: 0.9281 - val_loss: 0.6308 - val_mse: 0.6308\nEpoch 90/100\n198/198 [==============================] - 0s 2ms/step - loss: 0.9024 - mse: 0.9024 - val_loss: 0.6995 - val_mse: 0.6995\nEpoch 91/100\n198/198 [==============================] - 0s 2ms/step - loss: 0.9326 - mse: 0.9326 - val_loss: 0.7447 - val_mse: 0.7447\nEpoch 92/100\n198/198 [==============================] - 0s 2ms/step - loss: 0.8683 - mse: 0.8683 - val_loss: 0.7336 - val_mse: 0.7336\nEpoch 93/100\n198/198 [==============================] - 0s 2ms/step - loss: 0.9265 - mse: 0.9265 - val_loss: 0.6987 - val_mse: 0.6987\nEpoch 94/100\n198/198 [==============================] - 0s 2ms/step - loss: 0.9430 - mse: 0.9430 - val_loss: 0.6737 - val_mse: 0.6737\nEpoch 95/100\n198/198 [==============================] - 0s 2ms/step - loss: 0.9159 - mse: 0.9159 - val_loss: 0.6798 - val_mse: 0.6798\nEpoch 96/100\n198/198 [==============================] - 0s 2ms/step - loss: 0.9255 - mse: 0.9255 - val_loss: 0.6726 - val_mse: 0.6726\nEpoch 97/100\n198/198 [==============================] - 0s 2ms/step - loss: 0.9665 - mse: 0.9665 - val_loss: 0.5992 - val_mse: 0.5992\nEpoch 98/100\n198/198 [==============================] - 0s 2ms/step - loss: 0.8835 - mse: 0.8835 - val_loss: 0.6755 - val_mse: 0.6755\nEpoch 99/100\n198/198 [==============================] - 1s 3ms/step - loss: 0.8978 - mse: 0.8978 - val_loss: 0.6351 - val_mse: 0.6351\nEpoch 100/100\n198/198 [==============================] - 0s 2ms/step - loss: 0.8965 - mse: 0.8965 - val_loss: 0.7420 - val_mse: 0.7420\n",
          "name": "stdout"
        },
        {
          "output_type": "execute_result",
          "execution_count": 78,
          "data": {
            "text/plain": "<keras.callbacks.callbacks.History at 0x7fa2f1bff0b8>"
          },
          "metadata": {}
        }
      ]
    },
    {
      "metadata": {},
      "cell_type": "markdown",
      "source": "Nice, now that we trained it, let's see what it has to say. Before this though, we'll quickly convert the data to being just like it was before normalizing, as it is the mean of each country's cases that we are interested in."
    },
    {
      "metadata": {
        "trusted": true
      },
      "cell_type": "code",
      "source": "confirmed_general_mean = dataset.describe()[\"Confirmed\"]['mean']\ndeaths_general_mean = dataset.describe()[\"Deaths\"]['mean']\nrecovered_general_mean = dataset.describe()[\"Recovered\"]['mean']",
      "execution_count": 79,
      "outputs": []
    },
    {
      "metadata": {
        "trusted": true
      },
      "cell_type": "code",
      "source": "encoded_countries",
      "execution_count": 90,
      "outputs": [
        {
          "output_type": "execute_result",
          "execution_count": 90,
          "data": {
            "text/plain": "{0: 'Fiji',\n 1: 'occupied Palestinian territory',\n 2: 'Slovakia',\n 3: 'Saint Barthelemy',\n 4: 'Ukraine',\n 5: 'Nigeria',\n 6: 'Iraq',\n 7: 'Malta',\n 8: 'Canada',\n 9: 'French Guiana',\n 10: 'Poland',\n 11: 'Brunei',\n 12: 'Liechtenstein',\n 13: 'Kyrgyzstan',\n 14: 'Latvia',\n 15: 'Rwanda',\n 16: 'Afghanistan',\n 17: 'Chile',\n 18: 'Laos',\n 19: 'Congo (Kinshasa)',\n 20: 'Thailand',\n 21: 'Iran',\n 22: 'Georgia',\n 23: 'Ivory Coast',\n 24: 'Senegal',\n 25: 'Kuwait',\n 26: 'Sudan',\n 27: 'Chad',\n 28: 'Guyana',\n 29: 'Burkina Faso',\n 30: 'Somalia',\n 31: 'Benin',\n 32: 'Iceland',\n 33: 'Bosnia and Herzegovina',\n 34: 'Reunion',\n 35: 'Burma',\n 36: 'Faroe Islands',\n 37: 'Zimbabwe',\n 38: 'Morocco',\n 39: 'Puerto Rico',\n 40: 'Cuba',\n 41: 'Cape Verde',\n 42: 'Hong Kong',\n 43: 'Diamond Princess',\n 44: 'Jordan',\n 45: 'Colombia',\n 46: 'Mozambique',\n 47: 'Slovenia',\n 48: 'Gabon',\n 49: 'Grenada',\n 50: 'Guinea',\n 51: 'Honduras',\n 52: 'Argentina',\n 53: 'Maldives',\n 54: 'Indonesia',\n 55: 'Bahamas',\n 56: 'Brazil',\n 57: 'United Arab Emirates',\n 58: 'Estonia',\n 59: 'Ethiopia',\n 60: 'Haiti',\n 61: 'Madagascar',\n 62: 'Vietnam',\n 63: 'Lesotho',\n 64: 'Venezuela',\n 65: 'Barbados',\n 66: 'Nepal',\n 67: 'Guatemala',\n 68: 'Macau',\n 69: 'Mali',\n 70: 'New Zealand',\n 71: 'Sao Tome and Principe',\n 72: 'San Marino',\n 73: 'Togo',\n 74: 'Vatican City',\n 75: 'Ghana',\n 76: 'South Korea',\n 77: 'Cabo Verde',\n 78: 'India',\n 79: 'Azerbaijan',\n 80: 'Malawi',\n 81: 'Norway',\n 82: 'Mayotte',\n 83: 'St. Martin',\n 84: 'Equatorial Guinea',\n 85: 'Costa Rica',\n 86: 'Aruba',\n 87: 'Algeria',\n 88: 'Ecuador',\n 89: 'Russia',\n 90: 'Uruguay',\n 91: 'Gambia, The',\n 92: 'Mongolia',\n 93: 'Suriname',\n 94: 'Cameroon',\n 95: 'Belize',\n 96: 'Niger',\n 97: 'Yemen',\n 98: 'Jamaica',\n 99: 'North Macedonia',\n 100: 'Malaysia',\n 101: 'Australia',\n 102: 'Bolivia',\n 103: 'The Gambia',\n 104: 'Armenia',\n 105: 'Bhutan',\n 106: 'Belarus',\n 107: 'Tajikistan',\n 108: 'Czech Republic',\n 109: 'Luxembourg',\n 110: 'Saint Lucia',\n 111: 'Saudi Arabia',\n 112: 'Saint Vincent and the Grenadines',\n 113: 'Andorra',\n 114: 'Switzerland',\n 115: 'Sierra Leone',\n 116: 'Paraguay',\n 117: 'Namibia',\n 118: 'Guernsey',\n 119: 'Guinea-Bissau',\n 120: 'North Ireland',\n 121: 'Monaco',\n 122: 'Romania',\n 123: 'Seychelles',\n 124: 'Central African Republic',\n 125: 'Denmark',\n 126: 'Singapore',\n 127: 'Greenland',\n 128: 'Kazakhstan',\n 129: 'West Bank and Gaza',\n 130: 'Cyprus',\n 131: 'El Salvador',\n 132: 'Cambodia',\n 133: 'Japan',\n 134: 'Albania',\n 135: 'Nicaragua',\n 136: 'Eritrea',\n 137: 'Turkey',\n 138: 'Saint Kitts and Nevis',\n 139: 'South Africa',\n 140: 'Greece',\n 141: 'Antigua and Barbuda',\n 142: 'Guadeloupe',\n 143: 'Eswatini',\n 144: 'Syria',\n 145: 'Taiwan',\n 146: 'Tunisia',\n 147: 'France',\n 148: 'Germany',\n 149: 'Djibouti',\n 150: 'Philippines',\n 151: 'Guam',\n 152: 'Martinique',\n 153: 'Bangladesh',\n 154: 'Peru',\n 155: 'Palestine',\n 156: 'Finland',\n 157: 'Jersey',\n 158: 'Liberia',\n 159: 'Dominica',\n 160: 'Uganda',\n 161: 'Belgium',\n 162: 'Montenegro',\n 163: 'Moldova',\n 164: 'Botswana',\n 165: 'Bulgaria',\n 166: 'Dominican Republic',\n 167: 'Spain',\n 168: 'MS Zaandam',\n 169: 'Panama',\n 170: 'The Bahamas',\n 171: 'Serbia',\n 172: 'Bahrain',\n 173: 'Republic of Ireland',\n 174: 'Congo (Brazzaville)',\n 175: 'Pakistan',\n 176: 'US',\n 177: 'Lithuania',\n 178: 'East Timor',\n 179: 'Croatia',\n 180: 'Sri Lanka',\n 181: 'Mauritania',\n 182: 'Egypt',\n 183: 'Channel Islands',\n 184: 'Holy See',\n 185: 'Curacao',\n 186: 'Portugal',\n 187: 'Oman',\n 188: 'Libya',\n 189: 'Trinidad and Tobago',\n 190: 'Gambia',\n 191: 'Sweden',\n 192: 'UK',\n 193: 'Hungary',\n 194: 'Western Sahara',\n 195: 'Netherlands',\n 196: 'Burundi',\n 197: 'Lebanon',\n 198: 'Republic of the Congo',\n 199: 'Mexico',\n 200: 'Timor-Leste',\n 201: 'Angola',\n 202: 'Qatar',\n 203: 'Kosovo',\n 204: 'Austria',\n 205: 'Papua New Guinea',\n 206: 'Others',\n 207: 'Uzbekistan',\n 208: 'Israel',\n 209: 'Italy',\n 210: 'Mauritius',\n 211: 'Tanzania',\n 212: 'Zambia',\n 213: 'Cayman Islands',\n 214: 'Gibraltar',\n 215: 'South Sudan',\n 216: 'Kenya',\n 217: 'Mainland China',\n 218: 'Ireland',\n 219: 'Comoros'}"
          },
          "metadata": {}
        }
      ]
    },
    {
      "metadata": {
        "trusted": true
      },
      "cell_type": "code",
      "source": "decoded_countries",
      "execution_count": 80,
      "outputs": [
        {
          "output_type": "execute_result",
          "execution_count": 80,
          "data": {
            "text/plain": "{'Fiji': 0,\n 'occupied Palestinian territory': 1,\n 'Slovakia': 2,\n 'Saint Barthelemy': 3,\n 'Ukraine': 4,\n 'Nigeria': 5,\n 'Iraq': 6,\n 'Malta': 7,\n 'Canada': 8,\n 'French Guiana': 9,\n 'Poland': 10,\n 'Brunei': 11,\n 'Liechtenstein': 12,\n 'Kyrgyzstan': 13,\n 'Latvia': 14,\n 'Rwanda': 15,\n 'Afghanistan': 16,\n 'Chile': 17,\n 'Laos': 18,\n 'Congo (Kinshasa)': 19,\n 'Thailand': 20,\n 'Iran': 21,\n 'Georgia': 22,\n 'Ivory Coast': 23,\n 'Senegal': 24,\n 'Kuwait': 25,\n 'Sudan': 26,\n 'Chad': 27,\n 'Guyana': 28,\n 'Burkina Faso': 29,\n 'Somalia': 30,\n 'Benin': 31,\n 'Iceland': 32,\n 'Bosnia and Herzegovina': 33,\n 'Reunion': 34,\n 'Burma': 35,\n 'Faroe Islands': 36,\n 'Zimbabwe': 37,\n 'Morocco': 38,\n 'Puerto Rico': 39,\n 'Cuba': 40,\n 'Cape Verde': 41,\n 'Hong Kong': 42,\n 'Diamond Princess': 43,\n 'Jordan': 44,\n 'Colombia': 45,\n 'Mozambique': 46,\n 'Slovenia': 47,\n 'Gabon': 48,\n 'Grenada': 49,\n 'Guinea': 50,\n 'Honduras': 51,\n 'Argentina': 52,\n 'Maldives': 53,\n 'Indonesia': 54,\n 'Bahamas': 55,\n 'Brazil': 56,\n 'United Arab Emirates': 57,\n 'Estonia': 58,\n 'Ethiopia': 59,\n 'Haiti': 60,\n 'Madagascar': 61,\n 'Vietnam': 62,\n 'Lesotho': 63,\n 'Venezuela': 64,\n 'Barbados': 65,\n 'Nepal': 66,\n 'Guatemala': 67,\n 'Macau': 68,\n 'Mali': 69,\n 'New Zealand': 70,\n 'Sao Tome and Principe': 71,\n 'San Marino': 72,\n 'Togo': 73,\n 'Vatican City': 74,\n 'Ghana': 75,\n 'South Korea': 76,\n 'Cabo Verde': 77,\n 'India': 78,\n 'Azerbaijan': 79,\n 'Malawi': 80,\n 'Norway': 81,\n 'Mayotte': 82,\n 'St. Martin': 83,\n 'Equatorial Guinea': 84,\n 'Costa Rica': 85,\n 'Aruba': 86,\n 'Algeria': 87,\n 'Ecuador': 88,\n 'Russia': 89,\n 'Uruguay': 90,\n 'Gambia, The': 91,\n 'Mongolia': 92,\n 'Suriname': 93,\n 'Cameroon': 94,\n 'Belize': 95,\n 'Niger': 96,\n 'Yemen': 97,\n 'Jamaica': 98,\n 'North Macedonia': 99,\n 'Malaysia': 100,\n 'Australia': 101,\n 'Bolivia': 102,\n 'The Gambia': 103,\n 'Armenia': 104,\n 'Bhutan': 105,\n 'Belarus': 106,\n 'Tajikistan': 107,\n 'Czech Republic': 108,\n 'Luxembourg': 109,\n 'Saint Lucia': 110,\n 'Saudi Arabia': 111,\n 'Saint Vincent and the Grenadines': 112,\n 'Andorra': 113,\n 'Switzerland': 114,\n 'Sierra Leone': 115,\n 'Paraguay': 116,\n 'Namibia': 117,\n 'Guernsey': 118,\n 'Guinea-Bissau': 119,\n 'North Ireland': 120,\n 'Monaco': 121,\n 'Romania': 122,\n 'Seychelles': 123,\n 'Central African Republic': 124,\n 'Denmark': 125,\n 'Singapore': 126,\n 'Greenland': 127,\n 'Kazakhstan': 128,\n 'West Bank and Gaza': 129,\n 'Cyprus': 130,\n 'El Salvador': 131,\n 'Cambodia': 132,\n 'Japan': 133,\n 'Albania': 134,\n 'Nicaragua': 135,\n 'Eritrea': 136,\n 'Turkey': 137,\n 'Saint Kitts and Nevis': 138,\n 'South Africa': 139,\n 'Greece': 140,\n 'Antigua and Barbuda': 141,\n 'Guadeloupe': 142,\n 'Eswatini': 143,\n 'Syria': 144,\n 'Taiwan': 145,\n 'Tunisia': 146,\n 'France': 147,\n 'Germany': 148,\n 'Djibouti': 149,\n 'Philippines': 150,\n 'Guam': 151,\n 'Martinique': 152,\n 'Bangladesh': 153,\n 'Peru': 154,\n 'Palestine': 155,\n 'Finland': 156,\n 'Jersey': 157,\n 'Liberia': 158,\n 'Dominica': 159,\n 'Uganda': 160,\n 'Belgium': 161,\n 'Montenegro': 162,\n 'Moldova': 163,\n 'Botswana': 164,\n 'Bulgaria': 165,\n 'Dominican Republic': 166,\n 'Spain': 167,\n 'MS Zaandam': 168,\n 'Panama': 169,\n 'The Bahamas': 170,\n 'Serbia': 171,\n 'Bahrain': 172,\n 'Republic of Ireland': 173,\n 'Congo (Brazzaville)': 174,\n 'Pakistan': 175,\n 'US': 176,\n 'Lithuania': 177,\n 'East Timor': 178,\n 'Croatia': 179,\n 'Sri Lanka': 180,\n 'Mauritania': 181,\n 'Egypt': 182,\n 'Channel Islands': 183,\n 'Holy See': 184,\n 'Curacao': 185,\n 'Portugal': 186,\n 'Oman': 187,\n 'Libya': 188,\n 'Trinidad and Tobago': 189,\n 'Gambia': 190,\n 'Sweden': 191,\n 'UK': 192,\n 'Hungary': 193,\n 'Western Sahara': 194,\n 'Netherlands': 195,\n 'Burundi': 196,\n 'Lebanon': 197,\n 'Republic of the Congo': 198,\n 'Mexico': 199,\n 'Timor-Leste': 200,\n 'Angola': 201,\n 'Qatar': 202,\n 'Kosovo': 203,\n 'Austria': 204,\n 'Papua New Guinea': 205,\n 'Others': 206,\n 'Uzbekistan': 207,\n 'Israel': 208,\n 'Italy': 209,\n 'Mauritius': 210,\n 'Tanzania': 211,\n 'Zambia': 212,\n 'Cayman Islands': 213,\n 'Gibraltar': 214,\n 'South Sudan': 215,\n 'Kenya': 216,\n 'Mainland China': 217,\n 'Ireland': 218,\n 'Comoros': 219}"
          },
          "metadata": {}
        }
      ]
    },
    {
      "metadata": {
        "trusted": true
      },
      "cell_type": "code",
      "source": "# COUNTRIES OF AFRICA\nzimbabwe = decoded_countries['Zimbabwe']\nbenin = decoded_countries['Benin']\nsomalia = decoded_countries['Somalia']\nsudan = decoded_countries['Sudan']\nsouth_africa = decoded_countries['South Africa']",
      "execution_count": 87,
      "outputs": []
    },
    {
      "metadata": {},
      "cell_type": "markdown",
      "source": "Here, feel free to change the 'zimbabwe' variable with any other country variable. See the country codes above."
    },
    {
      "metadata": {
        "trusted": true
      },
      "cell_type": "code",
      "source": "y_pred = model.predict([zimbabwe])[0]\ny_current = y[zimbabwe]\ny_current, y_pred",
      "execution_count": 92,
      "outputs": [
        {
          "output_type": "execute_result",
          "execution_count": 92,
          "data": {
            "text/plain": "(array([0.189, 0.153, 0.147]), array([0.43 , 0.383, 0.146], dtype=float32))"
          },
          "metadata": {}
        }
      ]
    },
    {
      "metadata": {
        "trusted": true
      },
      "cell_type": "code",
      "source": "mean_squared_error(y_current, y_pred)",
      "execution_count": 93,
      "outputs": [
        {
          "output_type": "execute_result",
          "execution_count": 93,
          "data": {
            "text/plain": "0.03701851330567224"
          },
          "metadata": {}
        }
      ]
    },
    {
      "metadata": {},
      "cell_type": "markdown",
      "source": "So it appears that we weren't that far off, based on the MSE."
    },
    {
      "metadata": {
        "trusted": true
      },
      "cell_type": "code",
      "source": "y_current = np.array([y_current[0] * confirmed_general_mean, y_current[1] * deaths_general_mean, y_current[2] * recovered_general_mean])\ny_pred = np.array([y_pred[0] * confirmed_general_mean, y_pred[1] * deaths_general_mean, y_pred[2] * recovered_general_mean])",
      "execution_count": 94,
      "outputs": []
    },
    {
      "metadata": {},
      "cell_type": "markdown",
      "source": "# Prediction\nLet's see what the model has predicted"
    },
    {
      "metadata": {
        "trusted": true
      },
      "cell_type": "code",
      "source": "print(f\"Current means:\\nConfirmed = {y_current[0]}\\nDeaths = {y_current[1]}\\nRecovered = {y_current[2]}\\n\\nPredicted means:\\nConfirmed = {y_pred[0]}\\nDeaths = {y_pred[1]}\\nRecovered = {y_pred[2]}\")",
      "execution_count": 96,
      "outputs": [
        {
          "output_type": "stream",
          "text": "Current means:\nConfirmed = 1977.6829268292686\nDeaths = 86.64227642276421\nRecovered = 712.0650406504064\n\nPredicted means:\nConfirmed = 4503.325108017918\nDeaths = 216.49896804095638\nRecovered = 703.9827597955307\n",
          "name": "stdout"
        }
      ]
    }
  ],
  "metadata": {
    "kernelspec": {
      "name": "python36",
      "display_name": "Python 3.6",
      "language": "python"
    },
    "language_info": {
      "mimetype": "text/x-python",
      "nbconvert_exporter": "python",
      "name": "python",
      "pygments_lexer": "ipython3",
      "version": "3.6.6",
      "file_extension": ".py",
      "codemirror_mode": {
        "version": 3,
        "name": "ipython"
      }
    }
  },
  "nbformat": 4,
  "nbformat_minor": 2
}